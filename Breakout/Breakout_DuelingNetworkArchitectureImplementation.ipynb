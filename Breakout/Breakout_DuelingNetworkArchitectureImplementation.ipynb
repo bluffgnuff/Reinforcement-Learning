{
 "cells": [
  {
   "cell_type": "markdown",
   "id": "ae84dfbf-263e-4d9a-ad88-2eaf271e4421",
   "metadata": {
    "id": "ae84dfbf-263e-4d9a-ad88-2eaf271e4421"
   },
   "source": [
    "# Dueling Network Architecture Implementation\n",
    "The Duelling network is an artificial neural network architecture that has improved the state of the art in the DQN area used in combination with Dual DQN and Prioritized Experience Replay. This approach splits the action value calculation using a combination of state value function and advantage function."
   ]
  },
  {
   "cell_type": "markdown",
   "id": "203a96bf-c613-4ec6-bf0c-0d90f01b4b8c",
   "metadata": {},
   "source": [
    "# Controls\n",
    "The flag below allows to custumize the agent behaviour."
   ]
  },
  {
   "cell_type": "code",
   "execution_count": 1,
   "id": "b1542dee-b62a-465a-aaec-2fcec30496e9",
   "metadata": {},
   "outputs": [],
   "source": [
    "let_training = True  # @param {type:\"boolean\"}\n",
    "let_play =  False # @param {type:\"boolean\"}\n",
    "terminal_on_life_loss = False # @param {type:\"boolean\"}\n",
    "games_to_play = 10 # @param {type:\"number\"}\n",
    "rec_video = False  # @param {type:\"boolean\"}\n",
    "episodes = 4500 # @param {type:\"integer\"}\n",
    "decay_rate = 1.80\n"
   ]
  },
  {
   "cell_type": "markdown",
   "id": "6fb8f93a-897c-4712-a81f-545e8efedc37",
   "metadata": {},
   "source": [
    "# System Setting\n",
    "The code below permits to set the system to exec the rest of the notebook."
   ]
  },
  {
   "cell_type": "code",
   "execution_count": 2,
   "id": "TDL4T4160P-8",
   "metadata": {
    "colab": {
     "base_uri": "https://localhost:8080/"
    },
    "executionInfo": {
     "elapsed": 21905,
     "status": "ok",
     "timestamp": 1665042566743,
     "user": {
      "displayName": "stefano romeo",
      "userId": "04091680816877563929"
     },
     "user_tz": -120
    },
    "id": "TDL4T4160P-8",
    "outputId": "f5f0c89a-3413-4a14-b0ac-91798038dadf"
   },
   "outputs": [],
   "source": [
    "# To setting up Google Colab\n",
    "#!pip install gym[atari,accept-rom-license]"
   ]
  },
  {
   "cell_type": "code",
   "execution_count": 3,
   "id": "Lab36Cm53hT3",
   "metadata": {
    "colab": {
     "base_uri": "https://localhost:8080/"
    },
    "executionInfo": {
     "elapsed": 583,
     "status": "ok",
     "timestamp": 1666077971727,
     "user": {
      "displayName": "stefano romeo",
      "userId": "04091680816877563929"
     },
     "user_tz": -120
    },
    "id": "Lab36Cm53hT3",
    "outputId": "685e3000-67fa-4bb3-e1ec-7a50773a17f0"
   },
   "outputs": [],
   "source": [
    "# !pip show tensorflow"
   ]
  },
  {
   "cell_type": "code",
   "execution_count": 4,
   "id": "8f1d5fad-136c-4376-b5b0-879077510380",
   "metadata": {},
   "outputs": [
    {
     "name": "stderr",
     "output_type": "stream",
     "text": [
      "2022-11-24 23:18:51.519831: I tensorflow/stream_executor/platform/default/dso_loader.cc:49] Successfully opened dynamic library libcudart.so.10.1\n",
      "/home/ste/anaconda3/lib/python3.9/site-packages/scipy/__init__.py:146: UserWarning: A NumPy version >=1.16.5 and <1.23.0 is required for this version of SciPy (detected version 1.23.4\n",
      "  warnings.warn(f\"A NumPy version >={np_minversion} and <{np_maxversion}\"\n"
     ]
    },
    {
     "name": "stdout",
     "output_type": "stream",
     "text": [
      "Num GPUs Available:  1\n"
     ]
    },
    {
     "name": "stderr",
     "output_type": "stream",
     "text": [
      "2022-11-24 23:18:52.732431: I tensorflow/compiler/jit/xla_cpu_device.cc:41] Not creating XLA devices, tf_xla_enable_xla_devices not set\n",
      "2022-11-24 23:18:52.733020: I tensorflow/stream_executor/platform/default/dso_loader.cc:49] Successfully opened dynamic library libcuda.so.1\n",
      "2022-11-24 23:18:52.758134: I tensorflow/stream_executor/cuda/cuda_gpu_executor.cc:941] successful NUMA node read from SysFS had negative value (-1), but there must be at least one NUMA node, so returning NUMA node zero\n",
      "2022-11-24 23:18:52.758258: I tensorflow/core/common_runtime/gpu/gpu_device.cc:1720] Found device 0 with properties: \n",
      "pciBusID: 0000:01:00.0 name: NVIDIA GeForce GTX 1050 Ti computeCapability: 6.1\n",
      "coreClock: 1.4175GHz coreCount: 6 deviceMemorySize: 3.95GiB deviceMemoryBandwidth: 104.43GiB/s\n",
      "2022-11-24 23:18:52.758272: I tensorflow/stream_executor/platform/default/dso_loader.cc:49] Successfully opened dynamic library libcudart.so.10.1\n",
      "2022-11-24 23:18:52.759573: I tensorflow/stream_executor/platform/default/dso_loader.cc:49] Successfully opened dynamic library libcublas.so.10\n",
      "2022-11-24 23:18:52.759600: I tensorflow/stream_executor/platform/default/dso_loader.cc:49] Successfully opened dynamic library libcublasLt.so.10\n",
      "2022-11-24 23:18:52.760727: I tensorflow/stream_executor/platform/default/dso_loader.cc:49] Successfully opened dynamic library libcufft.so.10\n",
      "2022-11-24 23:18:52.760918: I tensorflow/stream_executor/platform/default/dso_loader.cc:49] Successfully opened dynamic library libcurand.so.10\n",
      "2022-11-24 23:18:52.762226: I tensorflow/stream_executor/platform/default/dso_loader.cc:49] Successfully opened dynamic library libcusolver.so.10\n",
      "2022-11-24 23:18:52.762966: I tensorflow/stream_executor/platform/default/dso_loader.cc:49] Successfully opened dynamic library libcusparse.so.10\n",
      "2022-11-24 23:18:52.765710: I tensorflow/stream_executor/platform/default/dso_loader.cc:49] Successfully opened dynamic library libcudnn.so.7\n",
      "2022-11-24 23:18:52.765833: I tensorflow/stream_executor/cuda/cuda_gpu_executor.cc:941] successful NUMA node read from SysFS had negative value (-1), but there must be at least one NUMA node, so returning NUMA node zero\n",
      "2022-11-24 23:18:52.765989: I tensorflow/stream_executor/cuda/cuda_gpu_executor.cc:941] successful NUMA node read from SysFS had negative value (-1), but there must be at least one NUMA node, so returning NUMA node zero\n",
      "2022-11-24 23:18:52.766070: I tensorflow/core/common_runtime/gpu/gpu_device.cc:1862] Adding visible gpu devices: 0\n"
     ]
    }
   ],
   "source": [
    "# Check that tensor flow is able to use the GPU\n",
    "import tensorflow as tf\n",
    "print(\"Num GPUs Available: \", len(tf.config.list_physical_devices('GPU')))"
   ]
  },
  {
   "cell_type": "markdown",
   "id": "fc578666-0c50-4681-8b90-bc48ece391d6",
   "metadata": {
    "id": "fc578666-0c50-4681-8b90-bc48ece391d6"
   },
   "source": [
    "# Searching for available environments\n",
    "We want to test the performance of our architecture with the Atari game 'Asterix'.\n",
    "Here we check which kind of versions of this game are available."
   ]
  },
  {
   "cell_type": "code",
   "execution_count": 5,
   "id": "82d78d38-4889-44d7-a8cd-49d3c9059bad",
   "metadata": {
    "colab": {
     "base_uri": "https://localhost:8080/"
    },
    "executionInfo": {
     "elapsed": 1539,
     "status": "ok",
     "timestamp": 1665042568266,
     "user": {
      "displayName": "stefano romeo",
      "userId": "04091680816877563929"
     },
     "user_tz": -120
    },
    "id": "82d78d38-4889-44d7-a8cd-49d3c9059bad",
    "outputId": "9d44fd58-f58f-4b95-cfa9-f00f7d2a04e2"
   },
   "outputs": [
    {
     "name": "stdout",
     "output_type": "stream",
     "text": [
      "ALE/Breakout-ram-v5\n",
      "ALE/Breakout-v5\n",
      "Breakout-ram-v0\n",
      "Breakout-ram-v4\n",
      "Breakout-ramDeterministic-v0\n",
      "Breakout-ramDeterministic-v4\n",
      "Breakout-ramNoFrameskip-v0\n",
      "Breakout-ramNoFrameskip-v4\n",
      "Breakout-v0\n",
      "Breakout-v4\n",
      "BreakoutDeterministic-v0\n",
      "BreakoutDeterministic-v4\n",
      "BreakoutNoFrameskip-v0\n",
      "BreakoutNoFrameskip-v4\n"
     ]
    },
    {
     "name": "stderr",
     "output_type": "stream",
     "text": [
      "/home/ste/anaconda3/lib/python3.9/site-packages/gym/envs/registration.py:423: UserWarning: \u001b[33mWARN: Custom namespace `ALE` is being overridden by namespace `ALE`. If you are developing a plugin you shouldn't specify a namespace in `register` calls. The namespace is specified through the entry point package metadata.\u001b[0m\n",
      "  logger.warn(\n",
      "Warning: Gym version v0.24.0 has a number of critical issues with `gym.make` such that the `reset` and `step` functions are called before returning the environment. It is recommend to downgrading to v0.23.1 or upgrading to v0.25.1\n"
     ]
    }
   ],
   "source": [
    "from gym import envs\n",
    "\n",
    "# Searching for available environments\n",
    "game_name = \"Breakout\"\n",
    "all_envs = envs.registry.values()\n",
    "env_ids = [env_spec.id for env_spec in all_envs]\n",
    "\n",
    "for id in sorted(env_ids):\n",
    "    if game_name in id:\n",
    "        print(id)"
   ]
  },
  {
   "cell_type": "markdown",
   "id": "12c5b1aa-6e92-4ac3-9079-c49121fafaef",
   "metadata": {
    "id": "12c5b1aa-6e92-4ac3-9079-c49121fafaef"
   },
   "source": [
    "# Environment Configuration\n",
    "We select the version 4 of the environment with no frame skipping and select as render mode human. The no frame skipping is used to make this environment compatible with the optimization made by *AtariPreprocessing*."
   ]
  },
  {
   "cell_type": "code",
   "execution_count": 6,
   "id": "3cecf335-3193-4ce8-90f5-dfe1c3a82e5f",
   "metadata": {
    "colab": {
     "base_uri": "https://localhost:8080/"
    },
    "executionInfo": {
     "elapsed": 43,
     "status": "ok",
     "timestamp": 1665042568266,
     "user": {
      "displayName": "stefano romeo",
      "userId": "04091680816877563929"
     },
     "user_tz": -120
    },
    "id": "3cecf335-3193-4ce8-90f5-dfe1c3a82e5f",
    "outputId": "28ea8b12-3721-41e2-a222-156e9e23bd33"
   },
   "outputs": [
    {
     "name": "stderr",
     "output_type": "stream",
     "text": [
      "A.L.E: Arcade Learning Environment (version 0.7.5+db37282)\n",
      "[Powered by Stella]\n"
     ]
    }
   ],
   "source": [
    "import gym\n",
    "from gym.wrappers import AtariPreprocessing\n",
    "from gym.wrappers import FrameStack\n",
    "\n",
    "# Make Parameters:\n",
    "game_mode = \"NoFrameskip\"  # [Deterministic | NoFrameskip | ram | ramDeterministic | ramNoFrameskip ]\n",
    "game_version = \"v4\"  # [v0 | v4 | v5]\n",
    "env_name = '{}{}-{}'.format(game_name, game_mode, game_version)\n",
    "env_render_mode = 'human'  # [human | rgb_array]\n",
    "env_frame_skip = 4\n",
    "\n",
    "env = gym.make(env_name, render_mode=env_render_mode)\n",
    "#env = gym.make(env_name)"
   ]
  },
  {
   "cell_type": "code",
   "execution_count": 7,
   "id": "23b68bf0-d09a-432b-9fe9-9991f0d8a84a",
   "metadata": {
    "colab": {
     "base_uri": "https://localhost:8080/",
     "height": 393
    },
    "executionInfo": {
     "elapsed": 33,
     "status": "ok",
     "timestamp": 1665042568267,
     "user": {
      "displayName": "stefano romeo",
      "userId": "04091680816877563929"
     },
     "user_tz": -120
    },
    "id": "23b68bf0-d09a-432b-9fe9-9991f0d8a84a",
    "outputId": "1921b05a-a9fa-47f2-9246-26adafe63578"
   },
   "outputs": [
    {
     "data": {
      "text/plain": [
       "<matplotlib.image.AxesImage at 0x7fb4423dc0d0>"
      ]
     },
     "execution_count": 7,
     "metadata": {},
     "output_type": "execute_result"
    },
    {
     "data": {
      "image/png": "[encoded data removed]",
      "text/plain": [
       "<Figure size 640x480 with 1 Axes>"
      ]
     },
     "metadata": {},
     "output_type": "display_data"
    }
   ],
   "source": [
    "%matplotlib inline\n",
    "import matplotlib.pyplot as plt\n",
    "\n",
    "env.reset() \n",
    "state = env.render(mode=\"rgb_array\")\n",
    "plt.imshow(state)"
   ]
  },
  {
   "cell_type": "markdown",
   "id": "04326819-e929-40fe-9a26-ecfc317f7882",
   "metadata": {
    "id": "04326819-e929-40fe-9a26-ecfc317f7882"
   },
   "source": [
    "## Enviornment Observations\n",
    "Below we have a first look at the environment characteristics."
   ]
  },
  {
   "cell_type": "code",
   "execution_count": 8,
   "id": "143cf671-a4e9-46a5-b06c-5f66f83fdc22",
   "metadata": {
    "colab": {
     "base_uri": "https://localhost:8080/"
    },
    "executionInfo": {
     "elapsed": 18,
     "status": "ok",
     "timestamp": 1665042568267,
     "user": {
      "displayName": "stefano romeo",
      "userId": "04091680816877563929"
     },
     "user_tz": -120
    },
    "id": "143cf671-a4e9-46a5-b06c-5f66f83fdc22",
    "outputId": "ffd6528b-5a7d-4fbf-d9e5-c4aad9150b7c"
   },
   "outputs": [
    {
     "data": {
      "text/plain": [
       "Box(0, 255, (210, 160, 3), uint8)"
      ]
     },
     "execution_count": 8,
     "metadata": {},
     "output_type": "execute_result"
    }
   ],
   "source": [
    "env.observation_space"
   ]
  },
  {
   "cell_type": "code",
   "execution_count": 9,
   "id": "401a5ee2-bf0f-4721-be41-32c498caf4f3",
   "metadata": {
    "colab": {
     "base_uri": "https://localhost:8080/"
    },
    "executionInfo": {
     "elapsed": 16,
     "status": "ok",
     "timestamp": 1665042568268,
     "user": {
      "displayName": "stefano romeo",
      "userId": "04091680816877563929"
     },
     "user_tz": -120
    },
    "id": "401a5ee2-bf0f-4721-be41-32c498caf4f3",
    "outputId": "ef5b5156-1509-47c2-98e8-2ffa96ea7495"
   },
   "outputs": [
    {
     "data": {
      "text/plain": [
       "Discrete(4)"
      ]
     },
     "execution_count": 9,
     "metadata": {},
     "output_type": "execute_result"
    }
   ],
   "source": [
    "env.action_space"
   ]
  },
  {
   "cell_type": "code",
   "execution_count": 10,
   "id": "2c5513e8-9f39-47bd-b667-a7436383795e",
   "metadata": {
    "colab": {
     "base_uri": "https://localhost:8080/"
    },
    "executionInfo": {
     "elapsed": 13,
     "status": "ok",
     "timestamp": 1665042568268,
     "user": {
      "displayName": "stefano romeo",
      "userId": "04091680816877563929"
     },
     "user_tz": -120
    },
    "id": "2c5513e8-9f39-47bd-b667-a7436383795e",
    "outputId": "f6792f4c-9ef4-485e-ef92-4875a0e28914"
   },
   "outputs": [
    {
     "data": {
      "text/plain": [
       "['NOOP', 'FIRE', 'RIGHT', 'LEFT']"
      ]
     },
     "execution_count": 10,
     "metadata": {},
     "output_type": "execute_result"
    }
   ],
   "source": [
    "env.unwrapped.get_action_meanings()"
   ]
  },
  {
   "cell_type": "markdown",
   "id": "39ad4449-5a13-4032-9645-53f78265617b",
   "metadata": {
    "id": "39ad4449-5a13-4032-9645-53f78265617b"
   },
   "source": [
    "## Environment Optimization\n",
    "We optimize the environment by adding the frame skipping, changing its observation in greyscale and following the experiment done in the paper we set to at most 30 the no-op actions; to get this we use the AtariPreprocessing wrapper.\n",
    "We use Framestack to create observations of 4 frames to give the idea of movement to the agent."
   ]
  },
  {
   "cell_type": "code",
   "execution_count": 11,
   "id": "63a89f89-355e-407a-a036-d1d14bfe3fba",
   "metadata": {
    "id": "63a89f89-355e-407a-a036-d1d14bfe3fba"
   },
   "outputs": [],
   "source": [
    "env = AtariPreprocessing(env, frame_skip=env_frame_skip, grayscale_obs=True, terminal_on_life_loss=terminal_on_life_loss, noop_max=30)"
   ]
  },
  {
   "cell_type": "code",
   "execution_count": 12,
   "id": "43876bf8-8f34-4118-990a-dba1bbbc67fd",
   "metadata": {
    "colab": {
     "base_uri": "https://localhost:8080/",
     "height": 340
    },
    "executionInfo": {
     "elapsed": 894,
     "status": "ok",
     "timestamp": 1665042569152,
     "user": {
      "displayName": "stefano romeo",
      "userId": "04091680816877563929"
     },
     "user_tz": -120
    },
    "id": "43876bf8-8f34-4118-990a-dba1bbbc67fd",
    "outputId": "bead8004-41c7-4082-d536-f1d6bce913c2"
   },
   "outputs": [
    {
     "data": {
      "text/plain": [
       "<matplotlib.image.AxesImage at 0x7fb4402161c0>"
      ]
     },
     "execution_count": 12,
     "metadata": {},
     "output_type": "execute_result"
    },
    {
     "data": {
      "image/png": "[encoded data removed]",
      "text/plain": [
       "<Figure size 1000x1000 with 4 Axes>"
      ]
     },
     "metadata": {},
     "output_type": "display_data"
    }
   ],
   "source": [
    "env = FrameStack(env, 4)\n",
    "state = env.reset()\n",
    "_, axarr = plt.subplots(2,2, figsize=(10,10))\n",
    "axarr[0, 0].imshow(state[0])\n",
    "axarr[0, 1].imshow(state[1])\n",
    "axarr[1, 0].imshow(state[2])\n",
    "axarr[1, 1].imshow(state[3])"
   ]
  },
  {
   "cell_type": "code",
   "execution_count": 13,
   "id": "51c6620c-52ee-48de-bc6b-4caba64b8f1f",
   "metadata": {
    "colab": {
     "base_uri": "https://localhost:8080/"
    },
    "executionInfo": {
     "elapsed": 35,
     "status": "ok",
     "timestamp": 1665042569153,
     "user": {
      "displayName": "stefano romeo",
      "userId": "04091680816877563929"
     },
     "user_tz": -120
    },
    "id": "51c6620c-52ee-48de-bc6b-4caba64b8f1f",
    "outputId": "4c23526d-3fe5-4795-bba8-e84ad50f9222"
   },
   "outputs": [
    {
     "data": {
      "text/plain": [
       "(4, 84, 84)"
      ]
     },
     "execution_count": 13,
     "metadata": {},
     "output_type": "execute_result"
    }
   ],
   "source": [
    "env.observation_space.shape"
   ]
  },
  {
   "cell_type": "code",
   "execution_count": 14,
   "id": "0735fbbc-11c3-418f-8026-f3eba9dc5cb9",
   "metadata": {
    "colab": {
     "base_uri": "https://localhost:8080/"
    },
    "executionInfo": {
     "elapsed": 28,
     "status": "ok",
     "timestamp": 1665042569153,
     "user": {
      "displayName": "stefano romeo",
      "userId": "04091680816877563929"
     },
     "user_tz": -120
    },
    "id": "0735fbbc-11c3-418f-8026-f3eba9dc5cb9",
    "outputId": "ce6cfa59-1f25-4917-d5c2-b5aa4a49c4c1"
   },
   "outputs": [
    {
     "data": {
      "text/plain": [
       "Discrete(4)"
      ]
     },
     "execution_count": 14,
     "metadata": {},
     "output_type": "execute_result"
    }
   ],
   "source": [
    "env.action_space"
   ]
  },
  {
   "cell_type": "markdown",
   "id": "9dccc025-b2ae-48c8-a70d-0e146d5c9d7c",
   "metadata": {
    "id": "9dccc025-b2ae-48c8-a70d-0e146d5c9d7c"
   },
   "source": [
    "# Network configuration"
   ]
  },
  {
   "cell_type": "markdown",
   "id": "e579e3d9-51f6-4612-bf77-25db75a98d4a",
   "metadata": {
    "id": "e579e3d9-51f6-4612-bf77-25db75a98d4a"
   },
   "source": [
    "## Policy\n",
    "The policy is the component that chooses the action to perform; using an $\\epsilon$-gready policy the action chosen can be random with probability $\\epsilon$ or an action suggested by the ANN with probability $1 - \\epsilon$."
   ]
  },
  {
   "cell_type": "code",
   "execution_count": 15,
   "id": "7c3213c2-3be1-4337-bf89-5a32f9dbf2c8",
   "metadata": {
    "id": "7c3213c2-3be1-4337-bf89-5a32f9dbf2c8"
   },
   "outputs": [],
   "source": [
    "from numpy import random\n",
    "import tensorflow as tf\n",
    "\n",
    "\n",
    "class EpsilonGreedyPolicy:\n",
    "\n",
    "    def __init__(self, model, action_space_size, episodes=1, min_epsilon=0, decay_rate=1.35):\n",
    "        self.model = model\n",
    "        self.action_space_size = action_space_size\n",
    "        self.min_epsilon = min_epsilon\n",
    "        self.episode = 1\n",
    "        self.episodes = episodes\n",
    "        self.decay_rate = decay_rate\n",
    "\n",
    "    def get_action(self, state):\n",
    "        epsilon_decay = (self.episode / self.episodes)*self.decay_rate\n",
    "        epsilon = max(1 - epsilon_decay, self.min_epsilon)\n",
    "        rnd = random.random()\n",
    "        # print(random, epsilon)\n",
    "        if rnd < epsilon:\n",
    "            action = random.randint(self.action_space_size)\n",
    "            return action\n",
    "        else:\n",
    "            # Predict action Q-values\n",
    "            # From environment state\n",
    "            state_tensor = tf.convert_to_tensor(state)\n",
    "            state_tensor = tf.expand_dims(state_tensor, 0)\n",
    "            action_probs = self.model(state_tensor)\n",
    "            # Take best action\n",
    "            action = tf.argmax(action_probs[0]).numpy()\n",
    "            return action\n",
    "\n",
    "    def next_episode(self):\n",
    "        self.episode += 1\n",
    "\n",
    "    def reset_episodes(self):\n",
    "        self.episode = 1\n"
   ]
  },
  {
   "cell_type": "markdown",
   "id": "255c4fef-7fd8-4e38-9eac-b7623174d588",
   "metadata": {
    "id": "255c4fef-7fd8-4e38-9eac-b7623174d588"
   },
   "source": [
    "## Replication Buffer"
   ]
  },
  {
   "cell_type": "markdown",
   "id": "6d9f6dd9-3076-4c01-bf7f-01b9400c6fc2",
   "metadata": {
    "id": "6d9f6dd9-3076-4c01-bf7f-01b9400c6fc2"
   },
   "source": [
    "### Prioritized experience replay\n",
    "The Prioritized experience replay was introduced in the paper \"Prioritized experience replay\" (https://arxiv.org/abs/1511.05952), it consists in an evolution of the replay buffer that orders the experiences to replay by priority. In this experiment we adopt the **rank-based** variant where the experience sampling from the buffer it's done with probability $ P(i) = \\frac{p_{i}^{\\alpha}}{\\sum_k{p_{k}^{\\alpha}}} $ and $p(i)=\\frac{1}{rank(i)}$ where $rank(i)$ is the rank of the transition *i*, $\\alpha$ is called **priority exponent**. It is necessary to compute the importance sampling weights as $w_j = \\frac{(N * P(j))^{-\\beta}}{max_i{w_i}} $ and $w_i = (\\frac{1}{N} . \\frac{1}{P(i)})^\\beta$ to avoid overfitting for the experiences with more priority.\n",
    "\n",
    "In both the paper the parameters are setted as follows: **priority exponent** $\\alpha= 0.7$,  the **importance sampling exponent** $\\beta = [0.5, 1]$.\n",
    "In the paper a heap array structure is proposed to implement the buffer. Due to the particular structure and the amount of property of the replay buffer in the Prioritized Experience Replay we choose to describe it as a class."
   ]
  },
  {
   "cell_type": "code",
   "execution_count": 16,
   "id": "9e8897eb-7fea-48e8-93d4-cfd169a6278a",
   "metadata": {
    "id": "9e8897eb-7fea-48e8-93d4-cfd169a6278a"
   },
   "outputs": [],
   "source": [
    "# import heapq as heap\n",
    "import numpy as np\n",
    "import scipy.stats as stats\n",
    "import heapq\n",
    "\n",
    "class PrioritizedExperienceReplayRankBased:\n",
    "    \"\"\"\n",
    "    replay_buffer       - contains the tuples (TD_error, transaction_id, experience)\n",
    "    max_buffer_size     - it's the max size of the buffer, over which before add an experience one is remove\n",
    "    alpha               - the alpha parameter used to calculate the probability of the i-th element P(i) to be sampled\n",
    "    self.max_td_error   - max td in the buffer\n",
    "\n",
    "    Old\n",
    "    time_to_haepify - time steps before sort the structure\n",
    "    \"\"\"\n",
    "\n",
    "    def __init__(self, max_buffer_size, alpha):\n",
    "        self.max_buffer_size = max_buffer_size\n",
    "        # (TD, experience)\n",
    "        self.replay_buffer = []\n",
    "        self.alpha = alpha\n",
    "        # The experience added has the maximum priority but once it sampled it will be updated with a more correct\n",
    "        # value.\n",
    "        self.max_td_error = 0\n",
    "        # self.heapify_threshold = step_to_heapify  # here we stock the threshold to sort the buffer\n",
    "        # self.step_to_heapify = step_to_heapify  # number of next steps before heapify\n",
    "\n",
    "    def set_alpha(self, alpha):\n",
    "        self.alpha = alpha\n",
    "\n",
    "    # Add experience in the buffer mapping it with its last TD_error.\n",
    "    # Heapq structure try to sort the elements of different tuple comparing from the first element of the tuple and\n",
    "    # continuing with next element until the two tuples have an element different. We are interested in sorting by TD,\n",
    "    # we don't care to sort on states, actions, or rewards. So, we use the transaction id to sort the transaction\n",
    "    # that is older in the buffer.\n",
    "    # The transaction_id of a transaction could be the -ith frame number of the whole training representing\n",
    "    # when the transaction happened.\n",
    "    # NB This approach avoids headppush fails when try to compare two states.\n",
    "    def add_experience(self, transaction_id, experience):\n",
    "        if len(self.replay_buffer) == self.max_buffer_size:\n",
    "            self.remove_experience()\n",
    "\n",
    "        # New experiences where td_error is unknown are set with the max td_error\n",
    "        if len(self.replay_buffer) > 0:\n",
    "            self.max_td_error = self.replay_buffer[0][0]\n",
    "        heapq.heappush(self.replay_buffer, (-self.max_td_error, transaction_id, experience))\n",
    "\n",
    "    # Remove experience from the buffer\n",
    "    def remove_experience(self, index=-1):\n",
    "        self.replay_buffer.pop(index)\n",
    "\n",
    "    @staticmethod\n",
    "    def zip_f_sampling(alpha, n):\n",
    "        x = np.arange(1, n + 1)\n",
    "        weights = x ** (-alpha)\n",
    "        weights /= weights.sum()\n",
    "        zipf = stats.rv_discrete(values=(x, weights))\n",
    "        return zipf.rvs() - 1\n",
    "\n",
    "    # Get batch_size samples from the buffer; using the beta parameter to compute the importance sampling weight\n",
    "    # Beta value can change while training we can delegate its control outside\n",
    "    def sample_experience(self, batch_size, beta):\n",
    "        experiences = []\n",
    "        importance_sampling_weights = []\n",
    "        n = len(self.replay_buffer) - 1\n",
    "        indexes = []\n",
    "        transaction_id = []\n",
    "\n",
    "        for i in range(0, batch_size):\n",
    "            # Sample index and check the experience is not already present in the batch\n",
    "            index = self.zip_f_sampling(self.alpha, n)\n",
    "            while index in indexes:\n",
    "                index = self.zip_f_sampling(self.alpha, n)\n",
    "            indexes.append(index)\n",
    "            # importance sampling weights computation\n",
    "            rank = index + 1\n",
    "            pj = 1 / rank\n",
    "            importance_sampling_weights.append(((n * pj) ** (-beta)))\n",
    "            transaction_id.append(self.replay_buffer[index][1])\n",
    "            experiences.append(self.replay_buffer[index][2])\n",
    "\n",
    "        # Normalization step\n",
    "        max_weight = max(importance_sampling_weights)\n",
    "        importance_sampling_weights_normalized = np.divide(importance_sampling_weights, max_weight)\n",
    "        return indexes, transaction_id, experiences, importance_sampling_weights_normalized\n",
    "\n",
    "    def update_td_error(self, indexes, td_errors):\n",
    "        # TODO update tupla e dopo ordina\n",
    "        for index, td_error in zip(indexes, td_errors):\n",
    "            my_list = list(self.replay_buffer[index])\n",
    "            my_list[0] = -abs(td_error)\n",
    "            self.replay_buffer[index] = tuple(my_list)\n",
    "        heapq.heapify(self.replay_buffer)\n"
   ]
  },
  {
   "cell_type": "markdown",
   "id": "5ddb99df-922b-4ef1-9865-8d653c135eb8",
   "metadata": {
    "id": "5ddb99df-922b-4ef1-9865-8d653c135eb8"
   },
   "source": [
    "## Network parameters"
   ]
  },
  {
   "cell_type": "code",
   "execution_count": 17,
   "id": "e58cc1cd-e7dc-4f40-ba18-b5127abc5fff",
   "metadata": {
    "id": "e58cc1cd-e7dc-4f40-ba18-b5127abc5fff"
   },
   "outputs": [],
   "source": [
    "import tensorflow as tf\n",
    "import numpy as np\n",
    "from tensorflow import keras as krs\n",
    "\n",
    "input_shape = env.observation_space.shape\n",
    "num_actions = env.action_space.n"
   ]
  },
  {
   "cell_type": "markdown",
   "id": "257d096c-c9d8-4012-9400-25075d3779cc",
   "metadata": {
    "id": "257d096c-c9d8-4012-9400-25075d3779cc"
   },
   "source": [
    "## Neural Network Creation\n",
    "The network architecture proposed follows the structure used in *\"Dueling Network Architectures for Deep Reinforcement Learning\"* https://arxiv.org/abs/1511.06581 composed of 3 convolutional layers and 2 fully connected layers for each stream (advantage, value).\n",
    "It's possible to create a dueling network using the `DQNAgent` of `rl.agents.dqn` setting `enable_dueling_network=True` in the constructor, but the purpose of this experiment is to show how to develop it manually so it is not used.\n",
    "\n",
    "The output of the value stream and the output of the advantage stream are merged to obtain the action-value function in the last module of the network using the following formula:\n",
    "$$ Q(s, a; \\theta, \\alpha, \\beta)^\\pi = V(s; \\theta, \\beta)^\\pi + (A(s, a; \\theta, \\alpha)^\\pi - \\frac{1}{|A|}\\sum_{a'}A(s, a'; \\theta, \\alpha)^\\pi) $$"
   ]
  },
  {
   "cell_type": "code",
   "execution_count": 18,
   "id": "0a878b21-2040-4ca8-aeff-3563499bf9f9",
   "metadata": {
    "id": "0a878b21-2040-4ca8-aeff-3563499bf9f9"
   },
   "outputs": [],
   "source": [
    "from tensorflow import math\n",
    "\n",
    "from tensorflow.keras import layers\n",
    "from tensorflow.keras import Model\n",
    "from tensorflow.keras import backend\n",
    "\n",
    "\n",
    "backend.set_image_data_format('channels_first')\n",
    "def create_dueling_model(input_shape, number_actions):\n",
    "    inputs = layers.Input(shape=input_shape)\n",
    "\n",
    "    # Convolutions on the frames on the screen\n",
    "    layer1 = layers.Conv2D(32, 8, strides=4, activation=\"relu\")(inputs)\n",
    "    layer2 = layers.Conv2D(64, 4, strides=2, activation=\"relu\")(layer1)\n",
    "    layer3 = layers.Conv2D(64, 3, strides=1, activation=\"relu\")(layer2)\n",
    "    layer4 = layers.Flatten()(layer3)\n",
    "\n",
    "    value_stream_1 = layers.Dense(512)(layer4)\n",
    "    value_stream_2 = layers.Dense(1)(value_stream_1)  # scalar output size\n",
    "\n",
    "    advantage_stream_1 = layers.Dense(512)(layer4)\n",
    "    advantage_stream_2 = layers.Dense(number_actions)(advantage_stream_1)  # output size equal to the actions available\n",
    "\n",
    "    # Combination of the streams: a Q value for each state\n",
    "    q_values = value_stream_2 + math.subtract(advantage_stream_2, math.reduce_mean(advantage_stream_2, axis=1,\n",
    "                                                                                   keepdims=True))\n",
    "    # Alternative q_value\n",
    "    # q_value = value_stream_2 + (advantage_stream_2 - backend.max(advantage_stream_2, axis=1, keepdims=True))\n",
    "    return Model(inputs=[inputs], outputs=[q_values])\n"
   ]
  },
  {
   "cell_type": "markdown",
   "id": "ff1b2cfe-111c-4afe-a3c5-391066124fe3",
   "metadata": {
    "id": "ff1b2cfe-111c-4afe-a3c5-391066124fe3"
   },
   "source": [
    "# Agent \n",
    "Here we define a custom agent to perfom action in the environment using a DoubleDQN training"
   ]
  },
  {
   "cell_type": "markdown",
   "id": "e391a27a-28ac-4d3d-9c8f-b42bb303bd76",
   "metadata": {
    "id": "e391a27a-28ac-4d3d-9c8f-b42bb303bd76"
   },
   "source": [
    "## Play one step\n",
    "With this function we want to ask the policy what action must be chosen and perform it on the enironment."
   ]
  },
  {
   "cell_type": "markdown",
   "id": "bdec3a88-954a-49f5-96b9-a6d34c29a16d",
   "metadata": {
    "id": "bdec3a88-954a-49f5-96b9-a6d34c29a16d"
   },
   "source": [
    "## Gradient \n",
    "In our scenario the gradient that is backpropageted to the last convolutional layer must be rescaled by $\\frac{1}{\\sqrt{2}}$. Furthermore we have to realize by hand the gradient clipping that is not realized by the optimizer since we are using a custom loop."
   ]
  },
  {
   "cell_type": "markdown",
   "id": "c45bd489-2d61-4334-b692-51a88f5ecb29",
   "metadata": {
    "id": "c45bd489-2d61-4334-b692-51a88f5ecb29"
   },
   "source": [
    "## Double DQN Training\n",
    "Double DQN algorithm uses a second network, beyond the network used for the prediction. So in the training process the main network is used to choose an action and another to evaluate it, this permits to mitigate the overfitting present in the classic DQN. "
   ]
  },
  {
   "cell_type": "markdown",
   "id": "gg9foUcDcp1r",
   "metadata": {
    "id": "gg9foUcDcp1r"
   },
   "source": [
    "## DQN Agent code:"
   ]
  },
  {
   "cell_type": "code",
   "execution_count": 19,
   "id": "6bad3e87-4bed-4e08-a34e-8a2e2fc06a83",
   "metadata": {
    "id": "6bad3e87-4bed-4e08-a34e-8a2e2fc06a83"
   },
   "outputs": [],
   "source": [
    "import math as mt\n",
    "import tensorflow as tf\n",
    "import numpy as np\n",
    "\n",
    "\n",
    "class DuelDQNAgent:\n",
    "\n",
    "    # We keep the creation model outside the agent to ensure a fine-grained control on it\n",
    "    def __init__(self, env, model, policy, model_target=None, optimizer=None, replay_buffer=None):\n",
    "        self.env = env\n",
    "        self.model_primary = model\n",
    "        self.model_target = model_target\n",
    "        self.policy = policy\n",
    "        self.optimizer = optimizer\n",
    "        self.replay_buffer = replay_buffer\n",
    "\n",
    "    def set_policy(self, policy):\n",
    "        self.policy = policy\n",
    "\n",
    "    # Execs one action receiving in input the current state\n",
    "    def play_one_step(self, state):\n",
    "        action = self.policy.get_action(state)\n",
    "        # print(\"action {}\".format(action))\n",
    "        next_state, reward, done, info = self.env.step(action)\n",
    "        return action, reward, next_state, done, info\n",
    "\n",
    "    # Play\n",
    "    def play(self):\n",
    "        state = self.env.reset()\n",
    "        steps = 0\n",
    "        cumulative_reward = 0\n",
    "        while True:\n",
    "            action, reward, next_state, done, info = self.play_one_step(state)\n",
    "            cumulative_reward += reward\n",
    "            if done:\n",
    "                print(\"DONE number of steps: {} reward:  {}\".format(steps, cumulative_reward))\n",
    "                break\n",
    "            steps += 1\n",
    "            state = next_state\n",
    "        return steps, cumulative_reward\n",
    "\n",
    "    # Double DQN Training\n",
    "    #     @tf.function\n",
    "    @staticmethod\n",
    "    def gradient_clipping(gradients, clipping_value):\n",
    "        clipped_gradients = [(tf.clip_by_norm(grad, clipping_value)) for grad in gradients]\n",
    "        return clipped_gradients\n",
    "\n",
    "    #     @tf.function\n",
    "    def weighted_gradient(self, best_on_target_q_values, importance_sampling_weights, states, loss_function, mask):\n",
    "        with tf.GradientTape() as tape:\n",
    "            batch_size = len(states)\n",
    "            tape.watch(importance_sampling_weights)\n",
    "            best_on_target_q_values = tf.expand_dims(best_on_target_q_values, 1)\n",
    "            all_q_values = self.model_primary(states)\n",
    "            q_values = tf.reduce_sum(all_q_values * mask, axis=1)\n",
    "            q_values = tf.expand_dims(q_values, 1)\n",
    "            # The target and the predicted values has been expanded following the instruction in:\n",
    "            # https://www.tensorflow.org/api_docs/python/tf/compat/v1/losses/mean_squared_error\n",
    "            loss_values = loss_function(y_true=best_on_target_q_values, y_pred=q_values,\n",
    "                                        sample_weight=importance_sampling_weights)\n",
    "            loss_value = tf.reduce_sum(loss_values) / batch_size\n",
    "\n",
    "        grads = tape.gradient(loss_value, self.model_primary.trainable_variables)\n",
    "        return grads, loss_values.numpy()\n",
    "\n",
    "    @staticmethod\n",
    "    def rescale_grad(gradients, rescale_value, index):\n",
    "        tensor_to_scale = gradients[index]\n",
    "        rescaled_tensor = tensor_to_scale * rescale_value\n",
    "        gradients[index] = rescaled_tensor\n",
    "        return gradients\n",
    "\n",
    "    # Collects samples of the previous experiences from the replay buffer\n",
    "    # and use them to improve the weights update of the Neural Network.\n",
    "    def double_dqn_training_step(self, batch_size, loss_function, discount_factor, clipping_value, beta, step_size=1):\n",
    "        indexes, transaction_ids, experiences, importance_sampling_weights = self.replay_buffer.sample_experience(\n",
    "            batch_size, beta)\n",
    "        states, actions, rewards, next_states, dones = [np.array([experience[field_index] for experience in experiences]\n",
    "                                                                 ) for field_index in range(5)]\n",
    "\n",
    "        action_space = self.env.action_space.n\n",
    "        # Predict using the primary network\n",
    "        next_q_values = self.model_primary.predict(next_states)\n",
    "        next_q_values_target = self.model_target.predict(next_states)\n",
    "\n",
    "        # Select the action that lead us to the higher next Q value\n",
    "        best_actions = np.argmax(next_q_values, axis=1)\n",
    "        best_action_mask = tf.one_hot(best_actions, action_space)\n",
    "\n",
    "        next_q_value_target = tf.reduce_sum(next_q_values_target * best_action_mask, axis=1)\n",
    "        best_on_target_q_values = (rewards + (1 - dones) * discount_factor * next_q_value_target)\n",
    "        # Punishment\n",
    "        best_on_target_q_values = best_on_target_q_values * (1-dones) - (dones)\n",
    "\n",
    "        mask = tf.one_hot(actions, action_space)\n",
    "        importance_sampling_weights = tf.convert_to_tensor(importance_sampling_weights, tf.float32)\n",
    "        weighted_gradient, loss_values = self.weighted_gradient(best_on_target_q_values, importance_sampling_weights,\n",
    "                                                                states, loss_function, mask)\n",
    "        self.replay_buffer.update_td_error(indexes, loss_values)\n",
    "\n",
    "        # We rescale the last convolutional layer to 1/sqrt(2) to balance the double backpropagation\n",
    "        # The index of the last sequential layer\n",
    "        rescale_value = (1 / mt.sqrt(2))\n",
    "        index_gradient_to_rescale = 4\n",
    "        rescaled_grads = self.rescale_grad(weighted_gradient, rescale_value, index_gradient_to_rescale)\n",
    "\n",
    "        # Since we are in a custom loop we have to clip the gradient by hand, we can't delegate it to the optimizer\n",
    "        clipped_gradients = self.gradient_clipping(rescaled_grads, clipping_value)\n",
    "        # Application gradient descent trough optimizer\n",
    "        self.optimizer.apply_gradients(zip(clipped_gradients, self.model_primary.trainable_variables))\n",
    "\n",
    "    # We use the training step just when there is enough samples on the replay buffer\n",
    "    def double_dqn_training(self, batch_size, loss_function, discount_factor, freq_replacement, training_freq,\n",
    "                            clipping_value, beta_min, beta_max, max_episodes=600, max_steps=10800):\n",
    "        rewards_stock = []\n",
    "        steps_stock = []\n",
    "        cumulative_steps = 0\n",
    "\n",
    "        for episode in range(1, max_episodes + 1):\n",
    "            state = self.env.reset()\n",
    "            rewards = 0\n",
    "            steps = 0\n",
    "            beta = max(beta_min, (beta_max * episode / max_episodes))\n",
    "\n",
    "            while True:\n",
    "                action, reward, next_state, done, info = self.play_one_step(state)\n",
    "                experience = [state, action, reward, next_state, done]\n",
    "                rewards += reward\n",
    "                self.replay_buffer.add_experience(cumulative_steps, experience)\n",
    "                cumulative_steps += 1\n",
    "                steps += 1\n",
    "\n",
    "                if len(self.replay_buffer.replay_buffer) > batch_size and (cumulative_steps % training_freq) == 0:\n",
    "                    self.double_dqn_training_step(batch_size, loss_function, discount_factor, clipping_value, beta)\n",
    "                if (cumulative_steps % freq_replacement) == 0:\n",
    "                    self.model_target.set_weights(self.model_primary.get_weights())\n",
    "                if steps == max_steps:\n",
    "                    print(\n",
    "                        \"ABORTED episode = {} number of steps = {} reward = {}\".format(episode, steps, rewards))\n",
    "                if done:\n",
    "                    print(\n",
    "                        \"DONE episode = {} number of steps = {} reward = {}\".format(episode, steps, rewards))\n",
    "                if done or steps == max_steps:\n",
    "                    rewards_stock.append(rewards)\n",
    "                    steps_stock.append(steps)\n",
    "                    break\n",
    "                state = next_state\n",
    "\n",
    "            self.policy.next_episode()\n",
    "\n",
    "        return steps_stock, rewards_stock\n"
   ]
  },
  {
   "cell_type": "markdown",
   "id": "9538fe86-67f4-4292-b80c-0225a088b271",
   "metadata": {
    "id": "9538fe86-67f4-4292-b80c-0225a088b271"
   },
   "source": [
    "## Result plots\n",
    "We use this function to generate the plot representing the rewards or the steps for each episode"
   ]
  },
  {
   "cell_type": "code",
   "execution_count": 20,
   "id": "6ef6ec3d-002c-4d30-9052-4e05db6839a0",
   "metadata": {
    "id": "6ef6ec3d-002c-4d30-9052-4e05db6839a0"
   },
   "outputs": [],
   "source": [
    "def plot_result(x_label, y_label, x, y, name):\n",
    "    plt.xlabel(x_label)\n",
    "    plt.ylabel(y_label)\n",
    "    plt.plot(x, y)\n",
    "    plt.savefig(name)\n",
    "    plt.show()\n",
    "    plt.close()"
   ]
  },
  {
   "cell_type": "markdown",
   "id": "364dba26-35cc-4d53-878a-6bf0496b5a24",
   "metadata": {
    "id": "364dba26-35cc-4d53-878a-6bf0496b5a24"
   },
   "source": [
    "# Training\n",
    "The learning step is executed with the **Double Deep Q-networks** algorithm presented in the paper *\"Deep reinforcement learning with double Q-learning\"*.https://arxiv.org/pdf/1509.06461.pdf."
   ]
  },
  {
   "cell_type": "markdown",
   "id": "23e16f49-345d-460c-922d-f529d9291a07",
   "metadata": {
    "id": "23e16f49-345d-460c-922d-f529d9291a07"
   },
   "source": [
    "## Training parameters\n",
    "We adopt as optimizer the **Adam** implementation setting the learning rate equal to $6.25x10^{-5}$ and **clipping the gradient** norm at most to 10; the parameters are specified in the paper \"*Deep reinforcement learning with double Q-learning*\" (https://arxiv.org/pdf/1509.06461.pdf)\n",
    "To evaluate the loss score we use the `mean_squared_error`. "
   ]
  },
  {
   "cell_type": "code",
   "execution_count": 21,
   "id": "4742cf2f-c7c6-403e-9da9-32d47e7717da",
   "metadata": {
    "id": "4742cf2f-c7c6-403e-9da9-32d47e7717da"
   },
   "outputs": [],
   "source": [
    "# Network Parameters\n",
    "from tensorflow.keras import losses\n",
    "from tensorflow.keras import optimizers\n",
    "from tensorflow.keras.models import load_model\n",
    "\n",
    "\n",
    "# Environment info\n",
    "input_shape = env.observation_space.shape\n",
    "actions_number = env.action_space.n\n",
    "\n",
    "# Model persistent file\n",
    "primary_model_file_name = \"{}_dueling_model\".format(game_name)\n",
    "\n",
    "# Training Parameters\n",
    "loss_function = losses.MeanSquaredError(reduction=losses.Reduction.NONE)\n",
    "batch_size = 32 # @param {type:\"integer\"}\n",
    "discount_factor = 0.95 # @param {type:\"number\"}\n",
    "learning_rate = 6.25e-5 # @param {type:\"number\"}\n",
    "clipping_value = 10 # @param {type:\"number\"}\n",
    "training_freq = 4 # @param {type:\"integer\"}\n",
    "\n",
    "# Dual DQN Training\n",
    "freq_replacement = 1000 # @param {type:\"integer\"}\n",
    "\n",
    "# Replay buffer parameters\n",
    "buffer_size = 100000 # @param {type:\"integer\"}\n",
    "# step_to_heapify = 200 # @param {type:\"integer\"}\n",
    "alpha = 0.7 # @param {type:\"number\"}\n",
    "beta_max = 1 # @param {type:\"number\"}\n",
    "beta_min = 0.5 # @param {type:\"number\"}\n",
    "\n",
    "# Policy parameters\n",
    "min_epsilon = 0.01 # @param {type:\"number\"}\n"
   ]
  },
  {
   "cell_type": "markdown",
   "id": "5fbf7e90-0940-497c-8dc3-cafa5366bc3f",
   "metadata": {
    "id": "5fbf7e90-0940-497c-8dc3-cafa5366bc3f"
   },
   "source": [
    "## Model creation / loading \n",
    "In this step we check whether there is an already saved model and load it in that case"
   ]
  },
  {
   "cell_type": "code",
   "execution_count": 22,
   "id": "44e76e0d-1130-47d8-b055-dbaa73907926",
   "metadata": {
    "colab": {
     "base_uri": "https://localhost:8080/"
    },
    "executionInfo": {
     "elapsed": 3653,
     "status": "ok",
     "timestamp": 1665042575453,
     "user": {
      "displayName": "stefano romeo",
      "userId": "04091680816877563929"
     },
     "user_tz": -120
    },
    "id": "44e76e0d-1130-47d8-b055-dbaa73907926",
    "outputId": "49ca5eb3-67e4-44d7-a61a-02e830afe86d"
   },
   "outputs": [
    {
     "name": "stdout",
     "output_type": "stream",
     "text": [
      "Found an existing model\n"
     ]
    },
    {
     "name": "stderr",
     "output_type": "stream",
     "text": [
      "2022-11-24 23:18:55.243977: I tensorflow/core/platform/cpu_feature_guard.cc:142] This TensorFlow binary is optimized with oneAPI Deep Neural Network Library (oneDNN) to use the following CPU instructions in performance-critical operations:  SSE4.1 SSE4.2 AVX AVX2 FMA\n",
      "To enable them in other operations, rebuild TensorFlow with the appropriate compiler flags.\n",
      "2022-11-24 23:18:55.244363: I tensorflow/compiler/jit/xla_gpu_device.cc:99] Not creating XLA devices, tf_xla_enable_xla_devices not set\n",
      "2022-11-24 23:18:55.244494: I tensorflow/stream_executor/cuda/cuda_gpu_executor.cc:941] successful NUMA node read from SysFS had negative value (-1), but there must be at least one NUMA node, so returning NUMA node zero\n",
      "2022-11-24 23:18:55.244618: I tensorflow/core/common_runtime/gpu/gpu_device.cc:1720] Found device 0 with properties: \n",
      "pciBusID: 0000:01:00.0 name: NVIDIA GeForce GTX 1050 Ti computeCapability: 6.1\n",
      "coreClock: 1.4175GHz coreCount: 6 deviceMemorySize: 3.95GiB deviceMemoryBandwidth: 104.43GiB/s\n",
      "2022-11-24 23:18:55.244638: I tensorflow/stream_executor/platform/default/dso_loader.cc:49] Successfully opened dynamic library libcudart.so.10.1\n",
      "2022-11-24 23:18:55.244660: I tensorflow/stream_executor/platform/default/dso_loader.cc:49] Successfully opened dynamic library libcublas.so.10\n",
      "2022-11-24 23:18:55.244673: I tensorflow/stream_executor/platform/default/dso_loader.cc:49] Successfully opened dynamic library libcublasLt.so.10\n",
      "2022-11-24 23:18:55.244683: I tensorflow/stream_executor/platform/default/dso_loader.cc:49] Successfully opened dynamic library libcufft.so.10\n",
      "2022-11-24 23:18:55.244695: I tensorflow/stream_executor/platform/default/dso_loader.cc:49] Successfully opened dynamic library libcurand.so.10\n",
      "2022-11-24 23:18:55.244706: I tensorflow/stream_executor/platform/default/dso_loader.cc:49] Successfully opened dynamic library libcusolver.so.10\n",
      "2022-11-24 23:18:55.244717: I tensorflow/stream_executor/platform/default/dso_loader.cc:49] Successfully opened dynamic library libcusparse.so.10\n",
      "2022-11-24 23:18:55.244728: I tensorflow/stream_executor/platform/default/dso_loader.cc:49] Successfully opened dynamic library libcudnn.so.7\n",
      "2022-11-24 23:18:55.244782: I tensorflow/stream_executor/cuda/cuda_gpu_executor.cc:941] successful NUMA node read from SysFS had negative value (-1), but there must be at least one NUMA node, so returning NUMA node zero\n",
      "2022-11-24 23:18:55.244903: I tensorflow/stream_executor/cuda/cuda_gpu_executor.cc:941] successful NUMA node read from SysFS had negative value (-1), but there must be at least one NUMA node, so returning NUMA node zero\n",
      "2022-11-24 23:18:55.244986: I tensorflow/core/common_runtime/gpu/gpu_device.cc:1862] Adding visible gpu devices: 0\n",
      "2022-11-24 23:18:55.245009: I tensorflow/stream_executor/platform/default/dso_loader.cc:49] Successfully opened dynamic library libcudart.so.10.1\n",
      "2022-11-24 23:18:55.608096: I tensorflow/core/common_runtime/gpu/gpu_device.cc:1261] Device interconnect StreamExecutor with strength 1 edge matrix:\n",
      "2022-11-24 23:18:55.608114: I tensorflow/core/common_runtime/gpu/gpu_device.cc:1267]      0 \n",
      "2022-11-24 23:18:55.608122: I tensorflow/core/common_runtime/gpu/gpu_device.cc:1280] 0:   N \n",
      "2022-11-24 23:18:55.608527: I tensorflow/stream_executor/cuda/cuda_gpu_executor.cc:941] successful NUMA node read from SysFS had negative value (-1), but there must be at least one NUMA node, so returning NUMA node zero\n",
      "2022-11-24 23:18:55.608735: I tensorflow/stream_executor/cuda/cuda_gpu_executor.cc:941] successful NUMA node read from SysFS had negative value (-1), but there must be at least one NUMA node, so returning NUMA node zero\n",
      "2022-11-24 23:18:55.608992: I tensorflow/stream_executor/cuda/cuda_gpu_executor.cc:941] successful NUMA node read from SysFS had negative value (-1), but there must be at least one NUMA node, so returning NUMA node zero\n",
      "2022-11-24 23:18:55.609196: I tensorflow/core/common_runtime/gpu/gpu_device.cc:1406] Created TensorFlow device (/job:localhost/replica:0/task:0/device:GPU:0 with 3454 MB memory) -> physical GPU (device: 0, name: NVIDIA GeForce GTX 1050 Ti, pci bus id: 0000:01:00.0, compute capability: 6.1)\n"
     ]
    },
    {
     "name": "stdout",
     "output_type": "stream",
     "text": [
      "WARNING:tensorflow:No training configuration found in save file, so the model was *not* compiled. Compile it manually.\n",
      "Model: \"model\"\n",
      "__________________________________________________________________________________________________\n",
      "Layer (type)                    Output Shape         Param #     Connected to                     \n",
      "==================================================================================================\n",
      "input_1 (InputLayer)            [(None, 4, 84, 84)]  0                                            \n",
      "__________________________________________________________________________________________________\n",
      "conv2d (Conv2D)                 (None, 32, 20, 20)   8224        input_1[0][0]                    \n",
      "__________________________________________________________________________________________________\n",
      "conv2d_1 (Conv2D)               (None, 64, 9, 9)     32832       conv2d[0][0]                     \n",
      "__________________________________________________________________________________________________\n",
      "conv2d_2 (Conv2D)               (None, 64, 7, 7)     36928       conv2d_1[0][0]                   \n",
      "__________________________________________________________________________________________________\n",
      "flatten (Flatten)               (None, 3136)         0           conv2d_2[0][0]                   \n",
      "__________________________________________________________________________________________________\n",
      "dense_2 (Dense)                 (None, 512)          1606144     flatten[0][0]                    \n",
      "__________________________________________________________________________________________________\n",
      "dense_3 (Dense)                 (None, 4)            2052        dense_2[0][0]                    \n",
      "__________________________________________________________________________________________________\n",
      "dense (Dense)                   (None, 512)          1606144     flatten[0][0]                    \n",
      "__________________________________________________________________________________________________\n",
      "tf.math.reduce_mean (TFOpLambda (None, 1)            0           dense_3[0][0]                    \n",
      "__________________________________________________________________________________________________\n",
      "dense_1 (Dense)                 (None, 1)            513         dense[0][0]                      \n",
      "__________________________________________________________________________________________________\n",
      "tf.math.subtract (TFOpLambda)   (None, 4)            0           dense_3[0][0]                    \n",
      "                                                                 tf.math.reduce_mean[0][0]        \n",
      "__________________________________________________________________________________________________\n",
      "tf.__operators__.add (TFOpLambd (None, 4)            0           dense_1[0][0]                    \n",
      "                                                                 tf.math.subtract[0][0]           \n",
      "==================================================================================================\n",
      "Total params: 3,292,837\n",
      "Trainable params: 3,292,837\n",
      "Non-trainable params: 0\n",
      "__________________________________________________________________________________________________\n",
      "None\n"
     ]
    }
   ],
   "source": [
    "from pathlib import Path\n",
    "import pandas as pd\n",
    "\n",
    "# Model creation\n",
    "file_primary = Path(primary_model_file_name)\n",
    "if file_primary.exists():\n",
    "    print(\"Found an existing model\")\n",
    "    model = load_model(primary_model_file_name)\n",
    "else:\n",
    "    print(\"Model not found, a new one will be crate\")\n",
    "    model = create_dueling_model(input_shape, actions_number)\n",
    "\n",
    "# Print a summary about the model\n",
    "print(model.summary())"
   ]
  },
  {
   "cell_type": "markdown",
   "id": "3cf8325f-d204-47a9-84d0-e0532a453eb5",
   "metadata": {
    "id": "3cf8325f-d204-47a9-84d0-e0532a453eb5"
   },
   "source": [
    "## Training\n",
    "Here we ran the training operation. After a training session we save two plot episodes - rewards, episodes - steps. Also we save a csv with two columns: steps and rewards."
   ]
  },
  {
   "cell_type": "code",
   "execution_count": 23,
   "id": "ef554953-be5f-4c07-9537-7f61a548629a",
   "metadata": {
    "colab": {
     "base_uri": "https://localhost:8080/",
     "height": 1000
    },
    "executionInfo": {
     "elapsed": 32149848,
     "status": "error",
     "timestamp": 1665074725297,
     "user": {
      "displayName": "stefano romeo",
      "userId": "04091680816877563929"
     },
     "user_tz": -120
    },
    "id": "ef554953-be5f-4c07-9537-7f61a548629a",
    "outputId": "d26f332c-d658-4041-b41b-06a1d68fdd00"
   },
   "outputs": [],
   "source": [
    "def training():\n",
    "    try:\n",
    "        model_target = create_dueling_model(input_shape, actions_number)\n",
    "        model_target.set_weights(model.get_weights())\n",
    "        optimizer = optimizers.Adam(learning_rate=learning_rate)\n",
    "        policy_training = EpsilonGreedyPolicy(model, actions_number, episodes=episodes, min_epsilon=min_epsilon, decay_rate=decay_rate)\n",
    "        replay_buffer = PrioritizedExperienceReplayRankBased(buffer_size, alpha)\n",
    "        agent = DuelDQNAgent(env, model, policy_training, model_target, optimizer, replay_buffer)\n",
    "        steps, rewards = agent.double_dqn_training(batch_size, loss_function, discount_factor, freq_replacement,\n",
    "                                                   training_freq, clipping_value, beta_min, beta_max, episodes)\n",
    "\n",
    "        ext = \"png\"\n",
    "        name_plot_eps_steps = \"{} Training Episodes Steps.{}\".format(game_name, ext)\n",
    "        name_plot_eps_rewards = \"{} Training Episodes Rewards.{}\".format(game_name, ext)\n",
    "        file_plot_1 = Path(name_plot_eps_steps)\n",
    "        i = 1\n",
    "        while file_plot_1.exists():\n",
    "            i += 1\n",
    "            name_plot_eps_steps = \"{} Training Episodes Steps_{}.{}\".format(game_name, i, ext)\n",
    "            name_plot_eps_rewards = \"{} Training Episodes Rewards_{}.{}\".format(game_name, i, ext)\n",
    "            file_plot_1 = Path(name_plot_eps_steps)\n",
    "\n",
    "        plot_result(\"Episode\", \"Steps\", range(1, episodes + 1), steps, name_plot_eps_steps)\n",
    "        plot_result(\"Episode\", \"Rewards\", range(1, episodes + 1), rewards, name_plot_eps_rewards)\n",
    "\n",
    "        csv_name = \"{}.csv\".format(game_name)\n",
    "        dict = {'steps': steps, 'rewards': rewards}\n",
    "        df = pd.DataFrame(dict)\n",
    "        df.to_csv(csv_name, mode='a', header=False)\n",
    "\n",
    "    finally:\n",
    "        model.save(primary_model_file_name)\n"
   ]
  },
  {
   "cell_type": "markdown",
   "id": "ac1a05b7-819e-4b6d-ad07-bce40bd6fe01",
   "metadata": {},
   "source": [
    "# Play\n",
    "Here we play a game (one episode)"
   ]
  },
  {
   "cell_type": "code",
   "execution_count": 24,
   "id": "96580b5d-b9c7-418c-bdbe-a780b87ce2f1",
   "metadata": {},
   "outputs": [],
   "source": [
    "def play():    \n",
    "    policy_play = EpsilonGreedyPolicy(model, actions_number, min_epsilon=min_epsilon)\n",
    "    agent = DuelDQNAgent(env, model, policy_play)\n",
    "    steps, reward = agent.play()\n",
    "    return reward, steps"
   ]
  },
  {
   "cell_type": "markdown",
   "id": "b0525ad1-afdc-4a71-9bba-0041a3abad5d",
   "metadata": {
    "id": "b0525ad1-afdc-4a71-9bba-0041a3abad5d"
   },
   "source": [
    "# Run"
   ]
  },
  {
   "cell_type": "code",
   "execution_count": null,
   "id": "28b03c22-dc33-4db8-b3e1-a4408d017e01",
   "metadata": {
    "id": "28b03c22-dc33-4db8-b3e1-a4408d017e01"
   },
   "outputs": [
    {
     "name": "stderr",
     "output_type": "stream",
     "text": [
      "2022-11-24 23:18:58.592929: I tensorflow/compiler/mlir/mlir_graph_optimization_pass.cc:116] None of the MLIR optimization passes are enabled (registered 2)\n",
      "2022-11-24 23:18:58.609124: I tensorflow/core/platform/profile_utils/cpu_utils.cc:112] CPU Frequency: 2200660000 Hz\n",
      "2022-11-24 23:18:58.692512: I tensorflow/stream_executor/platform/default/dso_loader.cc:49] Successfully opened dynamic library libcublas.so.10\n",
      "2022-11-24 23:18:58.814678: I tensorflow/stream_executor/platform/default/dso_loader.cc:49] Successfully opened dynamic library libcudnn.so.7\n"
     ]
    },
    {
     "name": "stdout",
     "output_type": "stream",
     "text": [
      "DONE episode = 1 number of steps = 128 reward = 0.0\n",
      "DONE episode = 2 number of steps = 248 reward = 2.0\n",
      "DONE episode = 3 number of steps = 220 reward = 2.0\n",
      "DONE episode = 4 number of steps = 138 reward = 0.0\n",
      "DONE episode = 5 number of steps = 136 reward = 0.0\n",
      "DONE episode = 6 number of steps = 139 reward = 0.0\n",
      "DONE episode = 7 number of steps = 133 reward = 0.0\n",
      "DONE episode = 8 number of steps = 175 reward = 1.0\n",
      "DONE episode = 9 number of steps = 281 reward = 4.0\n",
      "DONE episode = 10 number of steps = 229 reward = 3.0\n",
      "DONE episode = 11 number of steps = 182 reward = 1.0\n",
      "DONE episode = 12 number of steps = 144 reward = 0.0\n",
      "DONE episode = 13 number of steps = 166 reward = 1.0\n",
      "DONE episode = 14 number of steps = 189 reward = 1.0\n",
      "DONE episode = 15 number of steps = 177 reward = 1.0\n",
      "DONE episode = 16 number of steps = 262 reward = 3.0\n",
      "DONE episode = 17 number of steps = 168 reward = 1.0\n",
      "DONE episode = 18 number of steps = 169 reward = 1.0\n",
      "DONE episode = 19 number of steps = 278 reward = 3.0\n",
      "DONE episode = 20 number of steps = 149 reward = 0.0\n",
      "DONE episode = 21 number of steps = 135 reward = 0.0\n",
      "DONE episode = 22 number of steps = 135 reward = 0.0\n",
      "DONE episode = 23 number of steps = 295 reward = 5.0\n",
      "DONE episode = 24 number of steps = 189 reward = 1.0\n",
      "DONE episode = 25 number of steps = 304 reward = 4.0\n",
      "DONE episode = 26 number of steps = 131 reward = 0.0\n",
      "DONE episode = 27 number of steps = 309 reward = 4.0\n",
      "DONE episode = 28 number of steps = 302 reward = 4.0\n",
      "DONE episode = 29 number of steps = 207 reward = 2.0\n",
      "DONE episode = 30 number of steps = 180 reward = 1.0\n",
      "DONE episode = 31 number of steps = 185 reward = 1.0\n",
      "DONE episode = 32 number of steps = 215 reward = 2.0\n",
      "DONE episode = 33 number of steps = 144 reward = 0.0\n",
      "DONE episode = 34 number of steps = 200 reward = 1.0\n",
      "DONE episode = 35 number of steps = 262 reward = 3.0\n",
      "DONE episode = 36 number of steps = 258 reward = 3.0\n",
      "DONE episode = 37 number of steps = 135 reward = 0.0\n",
      "DONE episode = 38 number of steps = 135 reward = 0.0\n",
      "DONE episode = 39 number of steps = 208 reward = 2.0\n",
      "DONE episode = 40 number of steps = 241 reward = 2.0\n",
      "DONE episode = 41 number of steps = 147 reward = 0.0\n",
      "DONE episode = 42 number of steps = 130 reward = 0.0\n",
      "DONE episode = 43 number of steps = 337 reward = 6.0\n",
      "DONE episode = 44 number of steps = 275 reward = 3.0\n",
      "DONE episode = 45 number of steps = 322 reward = 4.0\n",
      "DONE episode = 46 number of steps = 271 reward = 4.0\n",
      "DONE episode = 47 number of steps = 163 reward = 1.0\n",
      "DONE episode = 48 number of steps = 178 reward = 1.0\n",
      "DONE episode = 49 number of steps = 177 reward = 1.0\n",
      "DONE episode = 50 number of steps = 214 reward = 2.0\n",
      "DONE episode = 51 number of steps = 131 reward = 0.0\n",
      "DONE episode = 52 number of steps = 277 reward = 3.0\n",
      "DONE episode = 53 number of steps = 232 reward = 2.0\n",
      "DONE episode = 54 number of steps = 166 reward = 1.0\n",
      "DONE episode = 55 number of steps = 132 reward = 0.0\n",
      "DONE episode = 56 number of steps = 139 reward = 0.0\n",
      "DONE episode = 57 number of steps = 354 reward = 5.0\n",
      "DONE episode = 58 number of steps = 161 reward = 1.0\n",
      "DONE episode = 59 number of steps = 162 reward = 1.0\n",
      "DONE episode = 60 number of steps = 126 reward = 0.0\n",
      "DONE episode = 61 number of steps = 213 reward = 2.0\n",
      "DONE episode = 62 number of steps = 188 reward = 1.0\n",
      "DONE episode = 63 number of steps = 144 reward = 0.0\n",
      "DONE episode = 64 number of steps = 189 reward = 1.0\n",
      "DONE episode = 65 number of steps = 132 reward = 0.0\n",
      "DONE episode = 66 number of steps = 130 reward = 0.0\n",
      "DONE episode = 67 number of steps = 135 reward = 0.0\n",
      "DONE episode = 68 number of steps = 164 reward = 1.0\n",
      "DONE episode = 69 number of steps = 179 reward = 1.0\n",
      "DONE episode = 70 number of steps = 157 reward = 0.0\n",
      "DONE episode = 71 number of steps = 131 reward = 0.0\n",
      "DONE episode = 72 number of steps = 207 reward = 2.0\n",
      "DONE episode = 73 number of steps = 229 reward = 2.0\n",
      "DONE episode = 74 number of steps = 158 reward = 1.0\n",
      "DONE episode = 75 number of steps = 130 reward = 0.0\n",
      "DONE episode = 76 number of steps = 175 reward = 1.0\n",
      "DONE episode = 77 number of steps = 271 reward = 3.0\n",
      "DONE episode = 78 number of steps = 128 reward = 0.0\n",
      "DONE episode = 79 number of steps = 225 reward = 2.0\n",
      "DONE episode = 80 number of steps = 142 reward = 0.0\n",
      "DONE episode = 81 number of steps = 197 reward = 2.0\n",
      "DONE episode = 82 number of steps = 207 reward = 2.0\n",
      "DONE episode = 83 number of steps = 226 reward = 2.0\n",
      "DONE episode = 84 number of steps = 164 reward = 1.0\n",
      "DONE episode = 85 number of steps = 156 reward = 1.0\n",
      "DONE episode = 86 number of steps = 262 reward = 3.0\n",
      "DONE episode = 87 number of steps = 320 reward = 7.0\n",
      "DONE episode = 88 number of steps = 163 reward = 1.0\n",
      "DONE episode = 89 number of steps = 170 reward = 1.0\n",
      "DONE episode = 90 number of steps = 305 reward = 4.0\n",
      "DONE episode = 91 number of steps = 312 reward = 5.0\n",
      "DONE episode = 92 number of steps = 147 reward = 0.0\n",
      "DONE episode = 93 number of steps = 167 reward = 1.0\n",
      "DONE episode = 94 number of steps = 188 reward = 1.0\n",
      "DONE episode = 95 number of steps = 186 reward = 1.0\n",
      "DONE episode = 96 number of steps = 245 reward = 3.0\n",
      "DONE episode = 97 number of steps = 136 reward = 0.0\n",
      "DONE episode = 98 number of steps = 294 reward = 3.0\n",
      "DONE episode = 99 number of steps = 132 reward = 0.0\n",
      "DONE episode = 100 number of steps = 160 reward = 1.0\n",
      "DONE episode = 101 number of steps = 206 reward = 2.0\n",
      "DONE episode = 102 number of steps = 230 reward = 2.0\n",
      "DONE episode = 103 number of steps = 204 reward = 2.0\n",
      "DONE episode = 104 number of steps = 173 reward = 1.0\n",
      "DONE episode = 105 number of steps = 192 reward = 1.0\n",
      "DONE episode = 106 number of steps = 266 reward = 3.0\n",
      "DONE episode = 107 number of steps = 157 reward = 1.0\n",
      "DONE episode = 108 number of steps = 136 reward = 0.0\n",
      "DONE episode = 109 number of steps = 162 reward = 1.0\n",
      "DONE episode = 110 number of steps = 182 reward = 1.0\n",
      "DONE episode = 111 number of steps = 479 reward = 10.0\n",
      "DONE episode = 112 number of steps = 207 reward = 2.0\n",
      "DONE episode = 113 number of steps = 273 reward = 4.0\n",
      "DONE episode = 114 number of steps = 175 reward = 1.0\n",
      "DONE episode = 115 number of steps = 185 reward = 1.0\n",
      "DONE episode = 116 number of steps = 199 reward = 2.0\n",
      "DONE episode = 117 number of steps = 129 reward = 0.0\n",
      "DONE episode = 118 number of steps = 270 reward = 3.0\n",
      "DONE episode = 119 number of steps = 190 reward = 1.0\n",
      "DONE episode = 120 number of steps = 307 reward = 4.0\n",
      "DONE episode = 121 number of steps = 135 reward = 0.0\n",
      "DONE episode = 122 number of steps = 182 reward = 2.0\n",
      "DONE episode = 123 number of steps = 341 reward = 7.0\n",
      "DONE episode = 124 number of steps = 156 reward = 1.0\n",
      "DONE episode = 125 number of steps = 221 reward = 2.0\n",
      "DONE episode = 126 number of steps = 245 reward = 3.0\n",
      "DONE episode = 127 number of steps = 265 reward = 3.0\n",
      "DONE episode = 128 number of steps = 227 reward = 2.0\n",
      "DONE episode = 129 number of steps = 207 reward = 2.0\n",
      "DONE episode = 130 number of steps = 288 reward = 3.0\n",
      "DONE episode = 131 number of steps = 165 reward = 1.0\n",
      "DONE episode = 132 number of steps = 153 reward = 1.0\n",
      "DONE episode = 133 number of steps = 164 reward = 1.0\n",
      "DONE episode = 134 number of steps = 235 reward = 3.0\n",
      "DONE episode = 135 number of steps = 243 reward = 3.0\n",
      "DONE episode = 136 number of steps = 158 reward = 1.0\n",
      "DONE episode = 137 number of steps = 128 reward = 0.0\n",
      "DONE episode = 138 number of steps = 220 reward = 2.0\n",
      "DONE episode = 139 number of steps = 155 reward = 1.0\n",
      "DONE episode = 140 number of steps = 127 reward = 0.0\n",
      "DONE episode = 141 number of steps = 166 reward = 1.0\n",
      "DONE episode = 142 number of steps = 314 reward = 5.0\n",
      "DONE episode = 143 number of steps = 128 reward = 0.0\n",
      "DONE episode = 144 number of steps = 130 reward = 0.0\n",
      "DONE episode = 145 number of steps = 170 reward = 1.0\n",
      "DONE episode = 146 number of steps = 125 reward = 0.0\n",
      "DONE episode = 147 number of steps = 177 reward = 1.0\n",
      "DONE episode = 148 number of steps = 175 reward = 1.0\n",
      "DONE episode = 149 number of steps = 247 reward = 3.0\n",
      "DONE episode = 150 number of steps = 161 reward = 1.0\n",
      "DONE episode = 151 number of steps = 224 reward = 2.0\n",
      "DONE episode = 152 number of steps = 159 reward = 1.0\n",
      "DONE episode = 153 number of steps = 182 reward = 1.0\n",
      "DONE episode = 154 number of steps = 160 reward = 1.0\n",
      "DONE episode = 155 number of steps = 166 reward = 1.0\n",
      "DONE episode = 156 number of steps = 240 reward = 2.0\n",
      "DONE episode = 157 number of steps = 143 reward = 0.0\n",
      "DONE episode = 158 number of steps = 238 reward = 3.0\n",
      "DONE episode = 159 number of steps = 204 reward = 2.0\n",
      "DONE episode = 160 number of steps = 152 reward = 1.0\n",
      "DONE episode = 161 number of steps = 209 reward = 2.0\n",
      "DONE episode = 162 number of steps = 189 reward = 1.0\n",
      "DONE episode = 163 number of steps = 128 reward = 0.0\n",
      "DONE episode = 164 number of steps = 230 reward = 2.0\n",
      "DONE episode = 165 number of steps = 133 reward = 0.0\n",
      "DONE episode = 166 number of steps = 133 reward = 0.0\n",
      "DONE episode = 167 number of steps = 166 reward = 1.0\n",
      "DONE episode = 168 number of steps = 277 reward = 6.0\n",
      "DONE episode = 169 number of steps = 284 reward = 3.0\n",
      "DONE episode = 170 number of steps = 167 reward = 1.0\n",
      "DONE episode = 171 number of steps = 187 reward = 1.0\n",
      "DONE episode = 172 number of steps = 167 reward = 1.0\n",
      "DONE episode = 173 number of steps = 156 reward = 1.0\n",
      "DONE episode = 174 number of steps = 138 reward = 0.0\n",
      "DONE episode = 175 number of steps = 133 reward = 0.0\n",
      "DONE episode = 176 number of steps = 130 reward = 0.0\n",
      "DONE episode = 177 number of steps = 134 reward = 0.0\n",
      "DONE episode = 178 number of steps = 128 reward = 0.0\n",
      "DONE episode = 179 number of steps = 185 reward = 1.0\n",
      "DONE episode = 180 number of steps = 176 reward = 1.0\n",
      "DONE episode = 181 number of steps = 159 reward = 1.0\n",
      "DONE episode = 182 number of steps = 137 reward = 0.0\n",
      "DONE episode = 183 number of steps = 179 reward = 1.0\n",
      "DONE episode = 184 number of steps = 129 reward = 0.0\n",
      "DONE episode = 185 number of steps = 127 reward = 0.0\n",
      "DONE episode = 186 number of steps = 170 reward = 1.0\n",
      "DONE episode = 187 number of steps = 176 reward = 1.0\n",
      "DONE episode = 188 number of steps = 155 reward = 1.0\n",
      "DONE episode = 189 number of steps = 151 reward = 0.0\n",
      "DONE episode = 190 number of steps = 200 reward = 2.0\n",
      "DONE episode = 191 number of steps = 245 reward = 3.0\n",
      "DONE episode = 192 number of steps = 182 reward = 2.0\n",
      "DONE episode = 193 number of steps = 278 reward = 3.0\n",
      "DONE episode = 194 number of steps = 217 reward = 2.0\n",
      "DONE episode = 195 number of steps = 130 reward = 0.0\n",
      "DONE episode = 196 number of steps = 174 reward = 1.0\n",
      "DONE episode = 197 number of steps = 177 reward = 1.0\n",
      "DONE episode = 198 number of steps = 172 reward = 1.0\n",
      "DONE episode = 199 number of steps = 136 reward = 0.0\n",
      "DONE episode = 200 number of steps = 305 reward = 4.0\n",
      "DONE episode = 201 number of steps = 205 reward = 2.0\n",
      "DONE episode = 202 number of steps = 234 reward = 3.0\n",
      "DONE episode = 203 number of steps = 169 reward = 1.0\n",
      "DONE episode = 204 number of steps = 130 reward = 0.0\n",
      "DONE episode = 205 number of steps = 194 reward = 2.0\n",
      "DONE episode = 206 number of steps = 317 reward = 4.0\n",
      "DONE episode = 207 number of steps = 259 reward = 3.0\n",
      "DONE episode = 208 number of steps = 188 reward = 2.0\n",
      "DONE episode = 209 number of steps = 155 reward = 1.0\n",
      "DONE episode = 210 number of steps = 160 reward = 1.0\n",
      "DONE episode = 211 number of steps = 281 reward = 4.0\n",
      "DONE episode = 212 number of steps = 281 reward = 4.0\n",
      "DONE episode = 213 number of steps = 163 reward = 1.0\n",
      "DONE episode = 214 number of steps = 325 reward = 4.0\n",
      "DONE episode = 215 number of steps = 232 reward = 3.0\n",
      "DONE episode = 216 number of steps = 133 reward = 0.0\n",
      "DONE episode = 217 number of steps = 264 reward = 3.0\n",
      "DONE episode = 218 number of steps = 213 reward = 2.0\n",
      "DONE episode = 219 number of steps = 156 reward = 1.0\n",
      "DONE episode = 220 number of steps = 398 reward = 7.0\n",
      "DONE episode = 221 number of steps = 142 reward = 0.0\n",
      "DONE episode = 222 number of steps = 196 reward = 2.0\n",
      "DONE episode = 223 number of steps = 131 reward = 0.0\n",
      "DONE episode = 224 number of steps = 133 reward = 0.0\n",
      "DONE episode = 225 number of steps = 180 reward = 1.0\n",
      "DONE episode = 226 number of steps = 228 reward = 2.0\n",
      "DONE episode = 227 number of steps = 209 reward = 2.0\n",
      "DONE episode = 228 number of steps = 151 reward = 1.0\n",
      "DONE episode = 229 number of steps = 168 reward = 1.0\n",
      "DONE episode = 230 number of steps = 132 reward = 0.0\n",
      "DONE episode = 231 number of steps = 132 reward = 0.0\n",
      "DONE episode = 232 number of steps = 184 reward = 1.0\n",
      "DONE episode = 233 number of steps = 219 reward = 2.0\n",
      "DONE episode = 234 number of steps = 137 reward = 0.0\n",
      "DONE episode = 235 number of steps = 258 reward = 3.0\n",
      "DONE episode = 236 number of steps = 183 reward = 1.0\n",
      "DONE episode = 237 number of steps = 172 reward = 1.0\n",
      "DONE episode = 238 number of steps = 174 reward = 1.0\n",
      "DONE episode = 239 number of steps = 405 reward = 6.0\n",
      "DONE episode = 240 number of steps = 171 reward = 1.0\n",
      "DONE episode = 241 number of steps = 227 reward = 2.0\n",
      "DONE episode = 242 number of steps = 273 reward = 3.0\n",
      "DONE episode = 243 number of steps = 180 reward = 1.0\n",
      "DONE episode = 244 number of steps = 187 reward = 2.0\n",
      "DONE episode = 245 number of steps = 211 reward = 2.0\n",
      "DONE episode = 246 number of steps = 352 reward = 4.0\n",
      "DONE episode = 247 number of steps = 158 reward = 1.0\n",
      "DONE episode = 248 number of steps = 223 reward = 2.0\n",
      "DONE episode = 249 number of steps = 244 reward = 2.0\n",
      "DONE episode = 250 number of steps = 146 reward = 0.0\n",
      "DONE episode = 251 number of steps = 154 reward = 1.0\n",
      "DONE episode = 252 number of steps = 158 reward = 1.0\n",
      "DONE episode = 253 number of steps = 257 reward = 3.0\n",
      "DONE episode = 254 number of steps = 215 reward = 3.0\n",
      "DONE episode = 255 number of steps = 129 reward = 0.0\n",
      "DONE episode = 256 number of steps = 205 reward = 2.0\n",
      "DONE episode = 257 number of steps = 127 reward = 0.0\n",
      "DONE episode = 258 number of steps = 221 reward = 2.0\n",
      "DONE episode = 259 number of steps = 235 reward = 3.0\n",
      "DONE episode = 260 number of steps = 305 reward = 4.0\n",
      "DONE episode = 261 number of steps = 156 reward = 1.0\n",
      "DONE episode = 262 number of steps = 238 reward = 3.0\n",
      "DONE episode = 263 number of steps = 160 reward = 1.0\n",
      "DONE episode = 264 number of steps = 125 reward = 0.0\n",
      "DONE episode = 265 number of steps = 137 reward = 0.0\n",
      "DONE episode = 266 number of steps = 331 reward = 4.0\n",
      "DONE episode = 267 number of steps = 231 reward = 2.0\n",
      "DONE episode = 268 number of steps = 180 reward = 1.0\n",
      "DONE episode = 269 number of steps = 230 reward = 3.0\n",
      "DONE episode = 270 number of steps = 308 reward = 4.0\n",
      "DONE episode = 271 number of steps = 181 reward = 1.0\n",
      "DONE episode = 272 number of steps = 289 reward = 4.0\n",
      "DONE episode = 273 number of steps = 270 reward = 4.0\n",
      "DONE episode = 274 number of steps = 275 reward = 3.0\n",
      "DONE episode = 275 number of steps = 267 reward = 3.0\n",
      "DONE episode = 276 number of steps = 156 reward = 1.0\n",
      "DONE episode = 277 number of steps = 219 reward = 2.0\n",
      "DONE episode = 278 number of steps = 187 reward = 2.0\n",
      "DONE episode = 279 number of steps = 252 reward = 3.0\n",
      "DONE episode = 280 number of steps = 136 reward = 0.0\n",
      "DONE episode = 281 number of steps = 193 reward = 2.0\n",
      "DONE episode = 282 number of steps = 131 reward = 0.0\n",
      "DONE episode = 283 number of steps = 144 reward = 0.0\n",
      "DONE episode = 284 number of steps = 180 reward = 2.0\n",
      "DONE episode = 285 number of steps = 176 reward = 1.0\n",
      "DONE episode = 286 number of steps = 245 reward = 3.0\n",
      "DONE episode = 287 number of steps = 174 reward = 1.0\n",
      "DONE episode = 288 number of steps = 127 reward = 0.0\n",
      "DONE episode = 289 number of steps = 156 reward = 1.0\n",
      "DONE episode = 290 number of steps = 266 reward = 3.0\n",
      "DONE episode = 291 number of steps = 130 reward = 0.0\n",
      "DONE episode = 292 number of steps = 222 reward = 2.0\n",
      "DONE episode = 293 number of steps = 230 reward = 3.0\n",
      "DONE episode = 294 number of steps = 153 reward = 1.0\n",
      "DONE episode = 295 number of steps = 240 reward = 3.0\n",
      "DONE episode = 296 number of steps = 128 reward = 0.0\n",
      "DONE episode = 297 number of steps = 187 reward = 2.0\n",
      "DONE episode = 298 number of steps = 129 reward = 0.0\n",
      "DONE episode = 299 number of steps = 264 reward = 4.0\n",
      "DONE episode = 300 number of steps = 316 reward = 5.0\n",
      "DONE episode = 301 number of steps = 132 reward = 0.0\n",
      "DONE episode = 302 number of steps = 158 reward = 1.0\n",
      "DONE episode = 303 number of steps = 180 reward = 1.0\n",
      "DONE episode = 304 number of steps = 160 reward = 1.0\n",
      "DONE episode = 305 number of steps = 314 reward = 5.0\n",
      "DONE episode = 306 number of steps = 134 reward = 0.0\n",
      "DONE episode = 307 number of steps = 204 reward = 2.0\n",
      "DONE episode = 308 number of steps = 135 reward = 0.0\n",
      "DONE episode = 309 number of steps = 133 reward = 0.0\n",
      "DONE episode = 310 number of steps = 280 reward = 3.0\n",
      "DONE episode = 311 number of steps = 134 reward = 0.0\n",
      "DONE episode = 312 number of steps = 213 reward = 2.0\n",
      "DONE episode = 313 number of steps = 144 reward = 0.0\n",
      "DONE episode = 314 number of steps = 204 reward = 2.0\n",
      "DONE episode = 315 number of steps = 127 reward = 0.0\n",
      "DONE episode = 316 number of steps = 339 reward = 5.0\n",
      "DONE episode = 317 number of steps = 139 reward = 0.0\n",
      "DONE episode = 318 number of steps = 293 reward = 4.0\n",
      "DONE episode = 319 number of steps = 183 reward = 1.0\n",
      "DONE episode = 320 number of steps = 254 reward = 3.0\n",
      "DONE episode = 321 number of steps = 125 reward = 0.0\n",
      "DONE episode = 322 number of steps = 347 reward = 5.0\n",
      "DONE episode = 323 number of steps = 350 reward = 8.0\n",
      "DONE episode = 324 number of steps = 225 reward = 2.0\n",
      "DONE episode = 325 number of steps = 156 reward = 1.0\n",
      "DONE episode = 326 number of steps = 153 reward = 1.0\n",
      "DONE episode = 327 number of steps = 206 reward = 2.0\n",
      "DONE episode = 328 number of steps = 202 reward = 2.0\n",
      "DONE episode = 329 number of steps = 174 reward = 1.0\n",
      "DONE episode = 330 number of steps = 220 reward = 2.0\n",
      "DONE episode = 331 number of steps = 349 reward = 8.0\n",
      "DONE episode = 332 number of steps = 154 reward = 1.0\n",
      "DONE episode = 333 number of steps = 159 reward = 1.0\n",
      "DONE episode = 334 number of steps = 151 reward = 1.0\n",
      "DONE episode = 335 number of steps = 127 reward = 0.0\n",
      "DONE episode = 336 number of steps = 236 reward = 3.0\n",
      "DONE episode = 337 number of steps = 170 reward = 1.0\n",
      "DONE episode = 338 number of steps = 219 reward = 2.0\n",
      "DONE episode = 339 number of steps = 183 reward = 1.0\n",
      "DONE episode = 340 number of steps = 256 reward = 3.0\n",
      "DONE episode = 341 number of steps = 178 reward = 1.0\n",
      "DONE episode = 342 number of steps = 273 reward = 4.0\n",
      "DONE episode = 343 number of steps = 214 reward = 3.0\n",
      "DONE episode = 344 number of steps = 126 reward = 0.0\n",
      "DONE episode = 345 number of steps = 240 reward = 3.0\n",
      "DONE episode = 346 number of steps = 232 reward = 3.0\n",
      "DONE episode = 347 number of steps = 181 reward = 1.0\n",
      "DONE episode = 348 number of steps = 176 reward = 1.0\n",
      "DONE episode = 349 number of steps = 155 reward = 1.0\n",
      "DONE episode = 350 number of steps = 308 reward = 4.0\n",
      "DONE episode = 351 number of steps = 307 reward = 7.0\n",
      "DONE episode = 352 number of steps = 235 reward = 2.0\n",
      "DONE episode = 353 number of steps = 130 reward = 0.0\n",
      "DONE episode = 354 number of steps = 256 reward = 3.0\n",
      "DONE episode = 355 number of steps = 206 reward = 2.0\n",
      "DONE episode = 356 number of steps = 308 reward = 4.0\n",
      "DONE episode = 357 number of steps = 253 reward = 3.0\n",
      "DONE episode = 358 number of steps = 134 reward = 0.0\n",
      "DONE episode = 359 number of steps = 163 reward = 1.0\n",
      "DONE episode = 360 number of steps = 220 reward = 2.0\n",
      "DONE episode = 361 number of steps = 275 reward = 3.0\n",
      "DONE episode = 362 number of steps = 184 reward = 1.0\n",
      "DONE episode = 363 number of steps = 232 reward = 3.0\n",
      "DONE episode = 364 number of steps = 235 reward = 2.0\n",
      "DONE episode = 365 number of steps = 259 reward = 3.0\n",
      "DONE episode = 366 number of steps = 249 reward = 3.0\n",
      "DONE episode = 367 number of steps = 130 reward = 0.0\n",
      "DONE episode = 368 number of steps = 146 reward = 0.0\n",
      "DONE episode = 369 number of steps = 325 reward = 5.0\n",
      "DONE episode = 370 number of steps = 209 reward = 2.0\n",
      "DONE episode = 371 number of steps = 170 reward = 1.0\n",
      "DONE episode = 372 number of steps = 175 reward = 1.0\n",
      "DONE episode = 373 number of steps = 193 reward = 2.0\n",
      "DONE episode = 374 number of steps = 258 reward = 3.0\n",
      "DONE episode = 375 number of steps = 303 reward = 4.0\n",
      "DONE episode = 376 number of steps = 252 reward = 3.0\n",
      "DONE episode = 377 number of steps = 171 reward = 1.0\n",
      "DONE episode = 378 number of steps = 265 reward = 3.0\n",
      "DONE episode = 379 number of steps = 411 reward = 6.0\n",
      "DONE episode = 380 number of steps = 154 reward = 1.0\n",
      "DONE episode = 381 number of steps = 141 reward = 0.0\n",
      "DONE episode = 382 number of steps = 200 reward = 2.0\n",
      "DONE episode = 383 number of steps = 256 reward = 3.0\n",
      "DONE episode = 384 number of steps = 193 reward = 2.0\n",
      "DONE episode = 385 number of steps = 300 reward = 5.0\n",
      "DONE episode = 386 number of steps = 132 reward = 0.0\n",
      "DONE episode = 387 number of steps = 382 reward = 6.0\n",
      "DONE episode = 388 number of steps = 171 reward = 1.0\n",
      "DONE episode = 389 number of steps = 257 reward = 3.0\n",
      "DONE episode = 390 number of steps = 126 reward = 0.0\n",
      "DONE episode = 391 number of steps = 126 reward = 0.0\n",
      "DONE episode = 392 number of steps = 240 reward = 2.0\n",
      "DONE episode = 393 number of steps = 134 reward = 0.0\n",
      "DONE episode = 394 number of steps = 227 reward = 2.0\n",
      "DONE episode = 395 number of steps = 174 reward = 1.0\n",
      "DONE episode = 396 number of steps = 267 reward = 3.0\n",
      "DONE episode = 397 number of steps = 234 reward = 3.0\n",
      "DONE episode = 398 number of steps = 269 reward = 4.0\n",
      "DONE episode = 399 number of steps = 252 reward = 3.0\n",
      "DONE episode = 400 number of steps = 262 reward = 4.0\n",
      "DONE episode = 401 number of steps = 127 reward = 0.0\n",
      "DONE episode = 402 number of steps = 181 reward = 1.0\n",
      "DONE episode = 403 number of steps = 281 reward = 4.0\n",
      "DONE episode = 404 number of steps = 169 reward = 1.0\n",
      "DONE episode = 405 number of steps = 125 reward = 0.0\n",
      "DONE episode = 406 number of steps = 193 reward = 2.0\n",
      "DONE episode = 407 number of steps = 208 reward = 2.0\n",
      "DONE episode = 408 number of steps = 179 reward = 1.0\n",
      "DONE episode = 409 number of steps = 255 reward = 3.0\n",
      "DONE episode = 410 number of steps = 221 reward = 3.0\n",
      "DONE episode = 411 number of steps = 162 reward = 1.0\n",
      "DONE episode = 412 number of steps = 156 reward = 1.0\n",
      "DONE episode = 413 number of steps = 212 reward = 2.0\n",
      "DONE episode = 414 number of steps = 217 reward = 3.0\n",
      "DONE episode = 415 number of steps = 178 reward = 1.0\n",
      "DONE episode = 416 number of steps = 300 reward = 4.0\n",
      "DONE episode = 417 number of steps = 205 reward = 2.0\n",
      "DONE episode = 418 number of steps = 181 reward = 1.0\n",
      "DONE episode = 419 number of steps = 171 reward = 1.0\n",
      "DONE episode = 420 number of steps = 183 reward = 2.0\n",
      "DONE episode = 421 number of steps = 257 reward = 3.0\n",
      "DONE episode = 422 number of steps = 267 reward = 4.0\n",
      "DONE episode = 423 number of steps = 157 reward = 1.0\n",
      "DONE episode = 424 number of steps = 158 reward = 1.0\n",
      "DONE episode = 425 number of steps = 213 reward = 2.0\n",
      "DONE episode = 426 number of steps = 287 reward = 4.0\n",
      "DONE episode = 427 number of steps = 237 reward = 3.0\n",
      "DONE episode = 428 number of steps = 188 reward = 2.0\n",
      "DONE episode = 429 number of steps = 132 reward = 0.0\n",
      "DONE episode = 430 number of steps = 190 reward = 2.0\n",
      "DONE episode = 431 number of steps = 167 reward = 1.0\n",
      "DONE episode = 432 number of steps = 213 reward = 2.0\n",
      "DONE episode = 433 number of steps = 276 reward = 3.0\n",
      "DONE episode = 434 number of steps = 284 reward = 5.0\n",
      "DONE episode = 435 number of steps = 155 reward = 1.0\n",
      "DONE episode = 436 number of steps = 261 reward = 4.0\n",
      "DONE episode = 437 number of steps = 271 reward = 4.0\n",
      "DONE episode = 438 number of steps = 171 reward = 1.0\n",
      "DONE episode = 439 number of steps = 156 reward = 1.0\n",
      "DONE episode = 440 number of steps = 300 reward = 5.0\n",
      "DONE episode = 441 number of steps = 248 reward = 3.0\n",
      "DONE episode = 442 number of steps = 270 reward = 4.0\n",
      "DONE episode = 443 number of steps = 186 reward = 2.0\n",
      "DONE episode = 444 number of steps = 203 reward = 2.0\n",
      "DONE episode = 445 number of steps = 220 reward = 3.0\n",
      "DONE episode = 446 number of steps = 188 reward = 2.0\n",
      "DONE episode = 447 number of steps = 177 reward = 1.0\n",
      "DONE episode = 448 number of steps = 265 reward = 3.0\n",
      "DONE episode = 449 number of steps = 278 reward = 3.0\n",
      "DONE episode = 450 number of steps = 225 reward = 2.0\n",
      "DONE episode = 451 number of steps = 316 reward = 5.0\n",
      "DONE episode = 452 number of steps = 208 reward = 2.0\n",
      "DONE episode = 453 number of steps = 203 reward = 2.0\n",
      "DONE episode = 454 number of steps = 421 reward = 7.0\n",
      "DONE episode = 455 number of steps = 255 reward = 3.0\n",
      "DONE episode = 456 number of steps = 175 reward = 1.0\n",
      "DONE episode = 457 number of steps = 278 reward = 4.0\n",
      "DONE episode = 458 number of steps = 425 reward = 7.0\n",
      "DONE episode = 459 number of steps = 231 reward = 3.0\n",
      "DONE episode = 460 number of steps = 174 reward = 1.0\n",
      "DONE episode = 461 number of steps = 293 reward = 4.0\n",
      "DONE episode = 462 number of steps = 310 reward = 5.0\n",
      "DONE episode = 463 number of steps = 350 reward = 5.0\n",
      "DONE episode = 464 number of steps = 184 reward = 2.0\n",
      "DONE episode = 465 number of steps = 185 reward = 1.0\n",
      "DONE episode = 466 number of steps = 165 reward = 1.0\n",
      "DONE episode = 467 number of steps = 186 reward = 2.0\n",
      "DONE episode = 468 number of steps = 300 reward = 5.0\n",
      "DONE episode = 469 number of steps = 250 reward = 3.0\n",
      "DONE episode = 470 number of steps = 152 reward = 1.0\n",
      "DONE episode = 471 number of steps = 233 reward = 3.0\n",
      "DONE episode = 472 number of steps = 279 reward = 4.0\n",
      "DONE episode = 473 number of steps = 160 reward = 1.0\n",
      "DONE episode = 474 number of steps = 183 reward = 2.0\n",
      "DONE episode = 475 number of steps = 190 reward = 2.0\n",
      "DONE episode = 476 number of steps = 156 reward = 1.0\n",
      "DONE episode = 477 number of steps = 305 reward = 4.0\n",
      "DONE episode = 478 number of steps = 255 reward = 3.0\n",
      "DONE episode = 479 number of steps = 247 reward = 3.0\n",
      "DONE episode = 480 number of steps = 176 reward = 1.0\n",
      "DONE episode = 481 number of steps = 301 reward = 4.0\n",
      "DONE episode = 482 number of steps = 231 reward = 3.0\n",
      "DONE episode = 483 number of steps = 297 reward = 4.0\n",
      "DONE episode = 484 number of steps = 299 reward = 4.0\n",
      "DONE episode = 485 number of steps = 127 reward = 0.0\n",
      "DONE episode = 486 number of steps = 265 reward = 3.0\n",
      "DONE episode = 487 number of steps = 230 reward = 3.0\n",
      "DONE episode = 488 number of steps = 172 reward = 1.0\n",
      "DONE episode = 489 number of steps = 249 reward = 3.0\n",
      "DONE episode = 490 number of steps = 208 reward = 2.0\n",
      "DONE episode = 491 number of steps = 256 reward = 3.0\n",
      "DONE episode = 492 number of steps = 173 reward = 1.0\n",
      "DONE episode = 493 number of steps = 157 reward = 1.0\n",
      "DONE episode = 494 number of steps = 133 reward = 0.0\n",
      "DONE episode = 495 number of steps = 275 reward = 4.0\n",
      "DONE episode = 496 number of steps = 224 reward = 2.0\n",
      "DONE episode = 497 number of steps = 208 reward = 2.0\n",
      "DONE episode = 498 number of steps = 226 reward = 3.0\n",
      "DONE episode = 499 number of steps = 156 reward = 1.0\n",
      "DONE episode = 500 number of steps = 235 reward = 3.0\n",
      "DONE episode = 501 number of steps = 306 reward = 4.0\n",
      "DONE episode = 502 number of steps = 263 reward = 3.0\n",
      "DONE episode = 503 number of steps = 249 reward = 3.0\n",
      "DONE episode = 504 number of steps = 151 reward = 1.0\n",
      "DONE episode = 505 number of steps = 229 reward = 2.0\n",
      "DONE episode = 506 number of steps = 248 reward = 3.0\n",
      "DONE episode = 507 number of steps = 153 reward = 1.0\n",
      "DONE episode = 508 number of steps = 331 reward = 5.0\n",
      "DONE episode = 509 number of steps = 181 reward = 1.0\n",
      "DONE episode = 510 number of steps = 266 reward = 4.0\n",
      "DONE episode = 511 number of steps = 354 reward = 8.0\n",
      "DONE episode = 512 number of steps = 125 reward = 0.0\n",
      "DONE episode = 513 number of steps = 226 reward = 2.0\n",
      "DONE episode = 514 number of steps = 196 reward = 2.0\n",
      "DONE episode = 515 number of steps = 285 reward = 3.0\n",
      "DONE episode = 516 number of steps = 139 reward = 0.0\n",
      "DONE episode = 517 number of steps = 155 reward = 1.0\n",
      "DONE episode = 518 number of steps = 200 reward = 2.0\n",
      "DONE episode = 519 number of steps = 184 reward = 2.0\n",
      "DONE episode = 520 number of steps = 269 reward = 4.0\n",
      "DONE episode = 521 number of steps = 123 reward = 0.0\n",
      "DONE episode = 522 number of steps = 166 reward = 1.0\n",
      "DONE episode = 523 number of steps = 327 reward = 5.0\n",
      "DONE episode = 524 number of steps = 204 reward = 2.0\n",
      "DONE episode = 525 number of steps = 124 reward = 0.0\n",
      "DONE episode = 526 number of steps = 251 reward = 3.0\n",
      "DONE episode = 527 number of steps = 126 reward = 0.0\n",
      "DONE episode = 528 number of steps = 230 reward = 3.0\n",
      "DONE episode = 529 number of steps = 124 reward = 0.0\n",
      "DONE episode = 530 number of steps = 172 reward = 1.0\n",
      "DONE episode = 531 number of steps = 154 reward = 1.0\n",
      "DONE episode = 532 number of steps = 273 reward = 3.0\n",
      "DONE episode = 533 number of steps = 162 reward = 1.0\n",
      "DONE episode = 534 number of steps = 248 reward = 3.0\n",
      "DONE episode = 535 number of steps = 155 reward = 1.0\n",
      "DONE episode = 536 number of steps = 160 reward = 1.0\n",
      "DONE episode = 537 number of steps = 253 reward = 3.0\n",
      "DONE episode = 538 number of steps = 179 reward = 1.0\n",
      "DONE episode = 539 number of steps = 279 reward = 4.0\n",
      "DONE episode = 540 number of steps = 171 reward = 1.0\n",
      "DONE episode = 541 number of steps = 205 reward = 2.0\n",
      "DONE episode = 542 number of steps = 210 reward = 3.0\n",
      "DONE episode = 543 number of steps = 216 reward = 3.0\n",
      "DONE episode = 544 number of steps = 174 reward = 1.0\n",
      "DONE episode = 545 number of steps = 155 reward = 1.0\n",
      "DONE episode = 546 number of steps = 310 reward = 5.0\n",
      "DONE episode = 547 number of steps = 327 reward = 5.0\n",
      "DONE episode = 548 number of steps = 161 reward = 1.0\n",
      "DONE episode = 549 number of steps = 205 reward = 2.0\n",
      "DONE episode = 550 number of steps = 293 reward = 5.0\n",
      "DONE episode = 551 number of steps = 181 reward = 2.0\n",
      "DONE episode = 552 number of steps = 321 reward = 4.0\n",
      "DONE episode = 553 number of steps = 296 reward = 4.0\n",
      "DONE episode = 554 number of steps = 221 reward = 2.0\n",
      "DONE episode = 555 number of steps = 202 reward = 2.0\n",
      "DONE episode = 556 number of steps = 252 reward = 3.0\n",
      "DONE episode = 557 number of steps = 316 reward = 4.0\n",
      "DONE episode = 558 number of steps = 328 reward = 4.0\n",
      "DONE episode = 559 number of steps = 310 reward = 4.0\n",
      "DONE episode = 560 number of steps = 186 reward = 1.0\n",
      "DONE episode = 561 number of steps = 398 reward = 6.0\n",
      "DONE episode = 562 number of steps = 214 reward = 2.0\n",
      "DONE episode = 563 number of steps = 134 reward = 0.0\n",
      "DONE episode = 564 number of steps = 240 reward = 3.0\n",
      "DONE episode = 565 number of steps = 198 reward = 2.0\n",
      "DONE episode = 566 number of steps = 307 reward = 5.0\n",
      "DONE episode = 567 number of steps = 378 reward = 6.0\n",
      "DONE episode = 568 number of steps = 160 reward = 1.0\n",
      "DONE episode = 569 number of steps = 183 reward = 1.0\n",
      "DONE episode = 570 number of steps = 259 reward = 3.0\n",
      "DONE episode = 571 number of steps = 305 reward = 4.0\n",
      "DONE episode = 572 number of steps = 202 reward = 2.0\n",
      "DONE episode = 573 number of steps = 353 reward = 6.0\n",
      "DONE episode = 574 number of steps = 298 reward = 4.0\n",
      "DONE episode = 575 number of steps = 152 reward = 1.0\n",
      "DONE episode = 576 number of steps = 202 reward = 2.0\n",
      "DONE episode = 577 number of steps = 193 reward = 1.0\n",
      "DONE episode = 578 number of steps = 221 reward = 3.0\n",
      "DONE episode = 579 number of steps = 284 reward = 4.0\n",
      "DONE episode = 580 number of steps = 299 reward = 4.0\n",
      "DONE episode = 581 number of steps = 250 reward = 3.0\n",
      "DONE episode = 582 number of steps = 253 reward = 3.0\n",
      "DONE episode = 583 number of steps = 253 reward = 3.0\n",
      "DONE episode = 584 number of steps = 223 reward = 2.0\n",
      "DONE episode = 585 number of steps = 221 reward = 2.0\n",
      "DONE episode = 586 number of steps = 186 reward = 1.0\n",
      "DONE episode = 587 number of steps = 252 reward = 3.0\n",
      "DONE episode = 588 number of steps = 443 reward = 8.0\n",
      "DONE episode = 589 number of steps = 265 reward = 4.0\n",
      "DONE episode = 590 number of steps = 212 reward = 2.0\n",
      "DONE episode = 591 number of steps = 157 reward = 1.0\n",
      "DONE episode = 592 number of steps = 253 reward = 3.0\n",
      "DONE episode = 593 number of steps = 204 reward = 2.0\n",
      "DONE episode = 594 number of steps = 286 reward = 4.0\n",
      "DONE episode = 595 number of steps = 198 reward = 2.0\n",
      "DONE episode = 596 number of steps = 156 reward = 1.0\n",
      "DONE episode = 597 number of steps = 319 reward = 5.0\n",
      "DONE episode = 598 number of steps = 204 reward = 2.0\n",
      "DONE episode = 599 number of steps = 154 reward = 1.0\n",
      "DONE episode = 600 number of steps = 212 reward = 3.0\n",
      "DONE episode = 601 number of steps = 232 reward = 3.0\n",
      "DONE episode = 602 number of steps = 257 reward = 3.0\n",
      "DONE episode = 603 number of steps = 127 reward = 0.0\n",
      "DONE episode = 604 number of steps = 187 reward = 2.0\n",
      "DONE episode = 605 number of steps = 187 reward = 2.0\n",
      "DONE episode = 606 number of steps = 153 reward = 1.0\n",
      "DONE episode = 607 number of steps = 155 reward = 1.0\n",
      "DONE episode = 608 number of steps = 172 reward = 1.0\n",
      "DONE episode = 609 number of steps = 217 reward = 3.0\n",
      "DONE episode = 610 number of steps = 352 reward = 5.0\n",
      "DONE episode = 611 number of steps = 303 reward = 4.0\n",
      "DONE episode = 612 number of steps = 154 reward = 1.0\n",
      "DONE episode = 613 number of steps = 201 reward = 2.0\n",
      "DONE episode = 614 number of steps = 204 reward = 2.0\n",
      "DONE episode = 615 number of steps = 236 reward = 3.0\n",
      "DONE episode = 616 number of steps = 264 reward = 4.0\n",
      "DONE episode = 617 number of steps = 299 reward = 4.0\n",
      "DONE episode = 618 number of steps = 154 reward = 1.0\n",
      "DONE episode = 619 number of steps = 393 reward = 6.0\n",
      "DONE episode = 620 number of steps = 236 reward = 3.0\n",
      "DONE episode = 621 number of steps = 298 reward = 4.0\n",
      "DONE episode = 622 number of steps = 342 reward = 5.0\n",
      "DONE episode = 623 number of steps = 174 reward = 1.0\n",
      "DONE episode = 624 number of steps = 189 reward = 2.0\n",
      "DONE episode = 625 number of steps = 177 reward = 1.0\n",
      "DONE episode = 626 number of steps = 208 reward = 2.0\n",
      "DONE episode = 627 number of steps = 453 reward = 8.0\n",
      "DONE episode = 628 number of steps = 284 reward = 4.0\n",
      "DONE episode = 629 number of steps = 156 reward = 1.0\n",
      "DONE episode = 630 number of steps = 236 reward = 3.0\n",
      "DONE episode = 631 number of steps = 352 reward = 8.0\n",
      "DONE episode = 632 number of steps = 251 reward = 3.0\n",
      "DONE episode = 633 number of steps = 346 reward = 5.0\n",
      "DONE episode = 634 number of steps = 283 reward = 4.0\n",
      "DONE episode = 635 number of steps = 300 reward = 4.0\n",
      "DONE episode = 636 number of steps = 176 reward = 1.0\n",
      "DONE episode = 637 number of steps = 242 reward = 3.0\n",
      "DONE episode = 638 number of steps = 250 reward = 3.0\n",
      "DONE episode = 639 number of steps = 307 reward = 4.0\n",
      "DONE episode = 640 number of steps = 261 reward = 3.0\n",
      "DONE episode = 641 number of steps = 252 reward = 3.0\n",
      "DONE episode = 642 number of steps = 218 reward = 3.0\n",
      "DONE episode = 643 number of steps = 162 reward = 1.0\n",
      "DONE episode = 644 number of steps = 267 reward = 4.0\n",
      "DONE episode = 645 number of steps = 192 reward = 2.0\n",
      "DONE episode = 646 number of steps = 211 reward = 3.0\n",
      "DONE episode = 647 number of steps = 358 reward = 5.0\n",
      "DONE episode = 648 number of steps = 208 reward = 2.0\n",
      "DONE episode = 649 number of steps = 327 reward = 5.0\n",
      "DONE episode = 650 number of steps = 253 reward = 3.0\n",
      "DONE episode = 651 number of steps = 202 reward = 2.0\n",
      "DONE episode = 652 number of steps = 202 reward = 2.0\n",
      "DONE episode = 653 number of steps = 179 reward = 1.0\n",
      "DONE episode = 654 number of steps = 172 reward = 1.0\n",
      "DONE episode = 655 number of steps = 259 reward = 3.0\n",
      "DONE episode = 656 number of steps = 270 reward = 4.0\n",
      "DONE episode = 657 number of steps = 153 reward = 1.0\n",
      "DONE episode = 658 number of steps = 206 reward = 2.0\n",
      "DONE episode = 659 number of steps = 376 reward = 6.0\n",
      "DONE episode = 660 number of steps = 224 reward = 3.0\n",
      "DONE episode = 661 number of steps = 214 reward = 3.0\n",
      "DONE episode = 662 number of steps = 222 reward = 2.0\n",
      "DONE episode = 663 number of steps = 152 reward = 1.0\n",
      "DONE episode = 664 number of steps = 200 reward = 2.0\n",
      "DONE episode = 665 number of steps = 302 reward = 4.0\n",
      "DONE episode = 666 number of steps = 184 reward = 2.0\n",
      "DONE episode = 667 number of steps = 340 reward = 6.0\n",
      "DONE episode = 668 number of steps = 447 reward = 8.0\n",
      "DONE episode = 669 number of steps = 233 reward = 3.0\n",
      "DONE episode = 670 number of steps = 217 reward = 2.0\n",
      "DONE episode = 671 number of steps = 291 reward = 4.0\n",
      "DONE episode = 672 number of steps = 205 reward = 2.0\n",
      "DONE episode = 673 number of steps = 169 reward = 1.0\n",
      "DONE episode = 674 number of steps = 173 reward = 1.0\n",
      "DONE episode = 675 number of steps = 197 reward = 2.0\n",
      "DONE episode = 676 number of steps = 157 reward = 1.0\n",
      "DONE episode = 677 number of steps = 170 reward = 1.0\n",
      "DONE episode = 678 number of steps = 343 reward = 5.0\n",
      "DONE episode = 679 number of steps = 227 reward = 2.0\n",
      "DONE episode = 680 number of steps = 128 reward = 0.0\n",
      "DONE episode = 681 number of steps = 232 reward = 3.0\n",
      "DONE episode = 682 number of steps = 153 reward = 1.0\n",
      "DONE episode = 683 number of steps = 252 reward = 3.0\n",
      "DONE episode = 684 number of steps = 204 reward = 2.0\n",
      "DONE episode = 685 number of steps = 262 reward = 4.0\n",
      "DONE episode = 686 number of steps = 402 reward = 6.0\n",
      "DONE episode = 687 number of steps = 198 reward = 2.0\n",
      "DONE episode = 688 number of steps = 126 reward = 0.0\n",
      "DONE episode = 689 number of steps = 300 reward = 7.0\n",
      "DONE episode = 690 number of steps = 213 reward = 2.0\n",
      "DONE episode = 691 number of steps = 364 reward = 5.0\n",
      "DONE episode = 692 number of steps = 354 reward = 6.0\n",
      "DONE episode = 693 number of steps = 232 reward = 3.0\n",
      "DONE episode = 694 number of steps = 249 reward = 3.0\n",
      "DONE episode = 695 number of steps = 238 reward = 3.0\n",
      "DONE episode = 696 number of steps = 283 reward = 4.0\n",
      "DONE episode = 697 number of steps = 168 reward = 1.0\n",
      "DONE episode = 698 number of steps = 522 reward = 13.0\n",
      "DONE episode = 699 number of steps = 127 reward = 0.0\n",
      "DONE episode = 700 number of steps = 369 reward = 6.0\n",
      "DONE episode = 701 number of steps = 390 reward = 7.0\n",
      "DONE episode = 702 number of steps = 352 reward = 6.0\n",
      "DONE episode = 703 number of steps = 252 reward = 2.0\n",
      "DONE episode = 704 number of steps = 190 reward = 2.0\n",
      "DONE episode = 705 number of steps = 126 reward = 0.0\n",
      "DONE episode = 706 number of steps = 205 reward = 2.0\n",
      "DONE episode = 707 number of steps = 198 reward = 2.0\n",
      "DONE episode = 708 number of steps = 295 reward = 4.0\n",
      "DONE episode = 709 number of steps = 203 reward = 2.0\n",
      "DONE episode = 710 number of steps = 232 reward = 3.0\n",
      "DONE episode = 711 number of steps = 208 reward = 2.0\n",
      "DONE episode = 712 number of steps = 234 reward = 3.0\n",
      "DONE episode = 713 number of steps = 318 reward = 5.0\n",
      "DONE episode = 714 number of steps = 154 reward = 1.0\n",
      "DONE episode = 715 number of steps = 206 reward = 2.0\n",
      "DONE episode = 716 number of steps = 154 reward = 1.0\n",
      "DONE episode = 717 number of steps = 279 reward = 4.0\n",
      "DONE episode = 718 number of steps = 249 reward = 3.0\n",
      "DONE episode = 719 number of steps = 381 reward = 6.0\n",
      "DONE episode = 720 number of steps = 396 reward = 6.0\n",
      "DONE episode = 721 number of steps = 255 reward = 3.0\n",
      "DONE episode = 722 number of steps = 231 reward = 3.0\n",
      "DONE episode = 723 number of steps = 273 reward = 4.0\n",
      "DONE episode = 724 number of steps = 308 reward = 4.0\n",
      "DONE episode = 725 number of steps = 155 reward = 1.0\n",
      "DONE episode = 726 number of steps = 223 reward = 2.0\n",
      "DONE episode = 727 number of steps = 277 reward = 4.0\n",
      "DONE episode = 728 number of steps = 376 reward = 7.0\n",
      "DONE episode = 729 number of steps = 176 reward = 1.0\n",
      "DONE episode = 730 number of steps = 201 reward = 2.0\n",
      "DONE episode = 731 number of steps = 370 reward = 6.0\n",
      "DONE episode = 732 number of steps = 324 reward = 4.0\n",
      "DONE episode = 733 number of steps = 210 reward = 2.0\n",
      "DONE episode = 734 number of steps = 257 reward = 4.0\n",
      "DONE episode = 735 number of steps = 267 reward = 4.0\n",
      "DONE episode = 736 number of steps = 238 reward = 3.0\n",
      "DONE episode = 737 number of steps = 159 reward = 1.0\n",
      "DONE episode = 738 number of steps = 203 reward = 2.0\n",
      "DONE episode = 739 number of steps = 248 reward = 3.0\n",
      "DONE episode = 740 number of steps = 270 reward = 3.0\n",
      "DONE episode = 741 number of steps = 172 reward = 1.0\n",
      "DONE episode = 742 number of steps = 255 reward = 4.0\n",
      "DONE episode = 743 number of steps = 174 reward = 1.0\n",
      "DONE episode = 744 number of steps = 177 reward = 1.0\n",
      "DONE episode = 745 number of steps = 279 reward = 3.0\n",
      "DONE episode = 746 number of steps = 312 reward = 5.0\n",
      "DONE episode = 747 number of steps = 207 reward = 2.0\n",
      "DONE episode = 748 number of steps = 198 reward = 2.0\n",
      "DONE episode = 749 number of steps = 350 reward = 5.0\n",
      "DONE episode = 750 number of steps = 471 reward = 8.0\n",
      "DONE episode = 751 number of steps = 207 reward = 2.0\n",
      "DONE episode = 752 number of steps = 349 reward = 5.0\n",
      "DONE episode = 753 number of steps = 289 reward = 5.0\n",
      "DONE episode = 754 number of steps = 353 reward = 6.0\n",
      "DONE episode = 755 number of steps = 203 reward = 2.0\n",
      "DONE episode = 756 number of steps = 133 reward = 0.0\n",
      "DONE episode = 757 number of steps = 236 reward = 3.0\n",
      "DONE episode = 758 number of steps = 221 reward = 2.0\n",
      "DONE episode = 759 number of steps = 256 reward = 3.0\n",
      "DONE episode = 760 number of steps = 409 reward = 7.0\n",
      "DONE episode = 761 number of steps = 262 reward = 3.0\n",
      "DONE episode = 762 number of steps = 250 reward = 3.0\n",
      "DONE episode = 763 number of steps = 185 reward = 2.0\n",
      "DONE episode = 764 number of steps = 206 reward = 2.0\n",
      "DONE episode = 765 number of steps = 259 reward = 3.0\n",
      "DONE episode = 766 number of steps = 250 reward = 3.0\n",
      "DONE episode = 767 number of steps = 235 reward = 3.0\n",
      "DONE episode = 768 number of steps = 176 reward = 1.0\n",
      "DONE episode = 769 number of steps = 262 reward = 4.0\n",
      "DONE episode = 770 number of steps = 215 reward = 3.0\n",
      "DONE episode = 771 number of steps = 377 reward = 6.0\n",
      "DONE episode = 772 number of steps = 264 reward = 3.0\n",
      "DONE episode = 773 number of steps = 288 reward = 4.0\n",
      "DONE episode = 774 number of steps = 309 reward = 4.0\n",
      "DONE episode = 775 number of steps = 224 reward = 2.0\n",
      "DONE episode = 776 number of steps = 271 reward = 3.0\n",
      "DONE episode = 777 number of steps = 156 reward = 1.0\n",
      "DONE episode = 778 number of steps = 224 reward = 2.0\n",
      "DONE episode = 779 number of steps = 156 reward = 1.0\n",
      "DONE episode = 780 number of steps = 260 reward = 4.0\n",
      "DONE episode = 781 number of steps = 308 reward = 5.0\n",
      "DONE episode = 782 number of steps = 327 reward = 5.0\n",
      "DONE episode = 783 number of steps = 226 reward = 2.0\n",
      "DONE episode = 784 number of steps = 279 reward = 4.0\n",
      "DONE episode = 785 number of steps = 181 reward = 2.0\n",
      "DONE episode = 786 number of steps = 171 reward = 1.0\n",
      "DONE episode = 787 number of steps = 395 reward = 7.0\n",
      "DONE episode = 788 number of steps = 284 reward = 4.0\n",
      "DONE episode = 789 number of steps = 252 reward = 3.0\n",
      "DONE episode = 790 number of steps = 299 reward = 4.0\n",
      "DONE episode = 791 number of steps = 158 reward = 1.0\n",
      "DONE episode = 792 number of steps = 254 reward = 3.0\n",
      "DONE episode = 793 number of steps = 221 reward = 2.0\n",
      "DONE episode = 794 number of steps = 185 reward = 2.0\n",
      "DONE episode = 795 number of steps = 351 reward = 5.0\n",
      "DONE episode = 796 number of steps = 229 reward = 3.0\n",
      "DONE episode = 797 number of steps = 230 reward = 3.0\n",
      "DONE episode = 798 number of steps = 276 reward = 4.0\n",
      "DONE episode = 799 number of steps = 224 reward = 2.0\n",
      "DONE episode = 800 number of steps = 155 reward = 1.0\n",
      "DONE episode = 801 number of steps = 152 reward = 1.0\n",
      "DONE episode = 802 number of steps = 158 reward = 1.0\n",
      "DONE episode = 803 number of steps = 390 reward = 13.0\n",
      "DONE episode = 804 number of steps = 153 reward = 1.0\n",
      "DONE episode = 805 number of steps = 204 reward = 2.0\n",
      "DONE episode = 806 number of steps = 283 reward = 4.0\n",
      "DONE episode = 807 number of steps = 179 reward = 2.0\n",
      "DONE episode = 808 number of steps = 261 reward = 4.0\n",
      "DONE episode = 809 number of steps = 206 reward = 2.0\n",
      "DONE episode = 810 number of steps = 264 reward = 4.0\n",
      "DONE episode = 811 number of steps = 226 reward = 2.0\n",
      "DONE episode = 812 number of steps = 283 reward = 4.0\n",
      "DONE episode = 813 number of steps = 246 reward = 4.0\n",
      "DONE episode = 814 number of steps = 270 reward = 3.0\n",
      "DONE episode = 815 number of steps = 330 reward = 5.0\n",
      "DONE episode = 816 number of steps = 306 reward = 4.0\n",
      "DONE episode = 817 number of steps = 256 reward = 3.0\n",
      "DONE episode = 818 number of steps = 279 reward = 5.0\n",
      "DONE episode = 819 number of steps = 323 reward = 6.0\n",
      "DONE episode = 820 number of steps = 183 reward = 2.0\n",
      "DONE episode = 821 number of steps = 304 reward = 4.0\n",
      "DONE episode = 822 number of steps = 294 reward = 4.0\n",
      "DONE episode = 823 number of steps = 181 reward = 1.0\n",
      "DONE episode = 824 number of steps = 275 reward = 3.0\n",
      "DONE episode = 825 number of steps = 295 reward = 4.0\n",
      "DONE episode = 826 number of steps = 396 reward = 6.0\n",
      "DONE episode = 827 number of steps = 206 reward = 2.0\n",
      "DONE episode = 828 number of steps = 258 reward = 4.0\n",
      "DONE episode = 829 number of steps = 251 reward = 3.0\n",
      "DONE episode = 830 number of steps = 331 reward = 5.0\n",
      "DONE episode = 831 number of steps = 273 reward = 3.0\n",
      "DONE episode = 832 number of steps = 413 reward = 7.0\n",
      "DONE episode = 833 number of steps = 400 reward = 6.0\n",
      "DONE episode = 834 number of steps = 333 reward = 5.0\n",
      "DONE episode = 835 number of steps = 331 reward = 5.0\n",
      "DONE episode = 836 number of steps = 293 reward = 5.0\n",
      "DONE episode = 837 number of steps = 224 reward = 3.0\n",
      "DONE episode = 838 number of steps = 189 reward = 2.0\n",
      "DONE episode = 839 number of steps = 424 reward = 8.0\n",
      "DONE episode = 840 number of steps = 153 reward = 1.0\n",
      "DONE episode = 841 number of steps = 173 reward = 1.0\n",
      "DONE episode = 842 number of steps = 340 reward = 6.0\n",
      "DONE episode = 843 number of steps = 277 reward = 4.0\n",
      "DONE episode = 844 number of steps = 253 reward = 3.0\n",
      "DONE episode = 845 number of steps = 255 reward = 3.0\n",
      "DONE episode = 846 number of steps = 233 reward = 3.0\n",
      "DONE episode = 847 number of steps = 235 reward = 3.0\n",
      "DONE episode = 848 number of steps = 321 reward = 4.0\n",
      "DONE episode = 849 number of steps = 183 reward = 2.0\n",
      "DONE episode = 850 number of steps = 202 reward = 2.0\n",
      "DONE episode = 851 number of steps = 252 reward = 3.0\n",
      "DONE episode = 852 number of steps = 351 reward = 5.0\n",
      "DONE episode = 853 number of steps = 282 reward = 4.0\n",
      "DONE episode = 854 number of steps = 250 reward = 3.0\n",
      "DONE episode = 855 number of steps = 356 reward = 6.0\n",
      "DONE episode = 856 number of steps = 191 reward = 2.0\n",
      "DONE episode = 857 number of steps = 250 reward = 3.0\n",
      "DONE episode = 858 number of steps = 392 reward = 6.0\n",
      "DONE episode = 859 number of steps = 266 reward = 4.0\n",
      "DONE episode = 860 number of steps = 125 reward = 0.0\n",
      "DONE episode = 861 number of steps = 171 reward = 1.0\n",
      "DONE episode = 862 number of steps = 305 reward = 5.0\n",
      "DONE episode = 863 number of steps = 532 reward = 10.0\n",
      "DONE episode = 864 number of steps = 318 reward = 5.0\n",
      "DONE episode = 865 number of steps = 347 reward = 6.0\n",
      "DONE episode = 866 number of steps = 260 reward = 4.0\n",
      "DONE episode = 867 number of steps = 128 reward = 0.0\n",
      "DONE episode = 868 number of steps = 240 reward = 3.0\n",
      "DONE episode = 869 number of steps = 335 reward = 5.0\n",
      "DONE episode = 870 number of steps = 230 reward = 3.0\n",
      "DONE episode = 871 number of steps = 192 reward = 2.0\n",
      "DONE episode = 872 number of steps = 297 reward = 4.0\n",
      "DONE episode = 873 number of steps = 218 reward = 2.0\n",
      "DONE episode = 874 number of steps = 236 reward = 3.0\n",
      "DONE episode = 875 number of steps = 232 reward = 2.0\n",
      "DONE episode = 876 number of steps = 389 reward = 7.0\n",
      "DONE episode = 877 number of steps = 204 reward = 2.0\n",
      "DONE episode = 878 number of steps = 313 reward = 5.0\n",
      "DONE episode = 879 number of steps = 298 reward = 4.0\n",
      "DONE episode = 880 number of steps = 200 reward = 2.0\n",
      "DONE episode = 881 number of steps = 296 reward = 4.0\n",
      "DONE episode = 882 number of steps = 378 reward = 6.0\n",
      "DONE episode = 883 number of steps = 306 reward = 4.0\n",
      "DONE episode = 884 number of steps = 293 reward = 4.0\n",
      "DONE episode = 885 number of steps = 265 reward = 4.0\n",
      "DONE episode = 886 number of steps = 260 reward = 4.0\n",
      "DONE episode = 887 number of steps = 354 reward = 8.0\n",
      "DONE episode = 888 number of steps = 181 reward = 2.0\n",
      "DONE episode = 889 number of steps = 376 reward = 7.0\n",
      "DONE episode = 890 number of steps = 199 reward = 2.0\n",
      "DONE episode = 891 number of steps = 424 reward = 7.0\n",
      "DONE episode = 892 number of steps = 327 reward = 5.0\n",
      "DONE episode = 893 number of steps = 216 reward = 3.0\n",
      "DONE episode = 894 number of steps = 127 reward = 0.0\n",
      "DONE episode = 895 number of steps = 361 reward = 6.0\n",
      "DONE episode = 896 number of steps = 248 reward = 3.0\n",
      "DONE episode = 897 number of steps = 246 reward = 3.0\n",
      "DONE episode = 898 number of steps = 383 reward = 7.0\n",
      "DONE episode = 899 number of steps = 267 reward = 4.0\n",
      "DONE episode = 900 number of steps = 314 reward = 4.0\n",
      "DONE episode = 901 number of steps = 231 reward = 3.0\n",
      "DONE episode = 902 number of steps = 262 reward = 4.0\n",
      "DONE episode = 903 number of steps = 398 reward = 6.0\n",
      "DONE episode = 904 number of steps = 298 reward = 5.0\n",
      "DONE episode = 905 number of steps = 305 reward = 5.0\n",
      "DONE episode = 906 number of steps = 335 reward = 5.0\n",
      "DONE episode = 907 number of steps = 234 reward = 3.0\n",
      "DONE episode = 908 number of steps = 320 reward = 5.0\n",
      "DONE episode = 909 number of steps = 186 reward = 2.0\n",
      "DONE episode = 910 number of steps = 229 reward = 3.0\n",
      "DONE episode = 911 number of steps = 283 reward = 5.0\n",
      "DONE episode = 912 number of steps = 227 reward = 3.0\n",
      "DONE episode = 913 number of steps = 229 reward = 3.0\n",
      "DONE episode = 914 number of steps = 180 reward = 2.0\n",
      "DONE episode = 915 number of steps = 362 reward = 6.0\n",
      "DONE episode = 916 number of steps = 375 reward = 8.0\n",
      "DONE episode = 917 number of steps = 183 reward = 2.0\n",
      "DONE episode = 918 number of steps = 326 reward = 7.0\n",
      "DONE episode = 919 number of steps = 230 reward = 3.0\n",
      "DONE episode = 920 number of steps = 302 reward = 4.0\n",
      "DONE episode = 921 number of steps = 279 reward = 4.0\n",
      "DONE episode = 922 number of steps = 227 reward = 3.0\n",
      "DONE episode = 923 number of steps = 187 reward = 2.0\n",
      "DONE episode = 924 number of steps = 322 reward = 4.0\n",
      "DONE episode = 925 number of steps = 186 reward = 2.0\n",
      "DONE episode = 926 number of steps = 321 reward = 4.0\n",
      "DONE episode = 927 number of steps = 411 reward = 7.0\n",
      "DONE episode = 928 number of steps = 308 reward = 5.0\n",
      "DONE episode = 929 number of steps = 179 reward = 1.0\n",
      "DONE episode = 930 number of steps = 296 reward = 4.0\n",
      "DONE episode = 931 number of steps = 230 reward = 3.0\n",
      "DONE episode = 932 number of steps = 335 reward = 6.0\n"
     ]
    }
   ],
   "source": [
    "\n",
    "if let_training:\n",
    "    training()\n"
   ]
  },
  {
   "cell_type": "code",
   "execution_count": null,
   "id": "a22c509d-475a-46f4-ad95-b556fd1e7424",
   "metadata": {},
   "outputs": [],
   "source": [
    "from gym.wrappers import RecordVideo\n",
    "\n",
    "if let_play:\n",
    "    tot_rewards = 0\n",
    "    tot_steps = 0\n",
    "    max_reward = 0\n",
    "    rewards = []\n",
    "    steps_arr = []\n",
    "    \n",
    "    if rec_video:\n",
    "        \n",
    "        path_v = \"{}_video\".format(game_name)\n",
    "        index_v = 0\n",
    "\n",
    "        directory_n = \"{}\".format(path_v)\n",
    "        directory = Path(\"./{}\".format(directory_n))\n",
    "        while directory.exists():\n",
    "            index_v += 1\n",
    "            directory_n = \"{}-{}\".format(path_v, index_v)\n",
    "            directory = Path(\"./{}\".format(directory_n))\n",
    "        \n",
    "        env = RecordVideo(env, directory)\n",
    "    for i in range(0, games_to_play):\n",
    "        reward, steps = play()\n",
    "        tot_rewards += reward\n",
    "        tot_steps += steps\n",
    "        rewards.append(reward)\n",
    "        steps_arr.append(steps)\n",
    "        \n",
    "        if max_reward < reward:\n",
    "            max_reward = reward\n",
    "    \n",
    "    ext = \"png\"\n",
    "    name_plot_steps = \"{} Playing Episodes Steps.{}\".format(game_name, ext)\n",
    "    name_plot_rewards = \"{} Playing Episodes Rewards.{}\".format(game_name, ext)\n",
    "    file_plot_1 = Path(name_plot_steps)\n",
    "    i = 1\n",
    "    while file_plot_1.exists():\n",
    "        i += 1\n",
    "        name_plot_steps = \"{} Playing Episodes Steps_{}.{}\".format(game_name, i, ext)\n",
    "        name_plot_rewards = \"{} Playing Episodes Rewards_{}.{}\".format(game_name, i, ext)\n",
    "        file_plot_1 = Path(name_plot_steps)\n",
    "\n",
    "    plot_result(\"Game\", \"Steps\", range(1, games_to_play + 1), steps_arr, name_plot_steps)\n",
    "    plot_result(\"Game\", \"Rewards\", range(1, games_to_play + 1), rewards, name_plot_rewards)\n",
    "    \n",
    "    print(\"Max REWARD {}\".format(max_reward))\n",
    "    print(\"Average REWARD {}\".format(tot_rewards/games_to_play))\n",
    "    print(\"Average STEPS {}\".format(tot_steps/games_to_play))\n",
    "\n",
    "env.close()"
   ]
  },
  {
   "cell_type": "markdown",
   "id": "1591b57d-fb25-42cc-a552-6602dfd4d161",
   "metadata": {},
   "source": [
    "# Video demostration of the agent's ability"
   ]
  },
  {
   "cell_type": "code",
   "execution_count": null,
   "id": "3391deda-eabc-427a-9c34-8ed1532f1f26",
   "metadata": {},
   "outputs": [],
   "source": [
    "from IPython.display import Video\n",
    "\n",
    "video = \"./asterix_video/rl-video-episode-0.mp4\".format(game_name) \n",
    "Video(video)"
   ]
  },
  {
   "cell_type": "code",
   "execution_count": null,
   "id": "77KRHlFFhhNG",
   "metadata": {
    "colab": {
     "base_uri": "https://localhost:8080/",
     "height": 34
    },
    "executionInfo": {
     "elapsed": 6,
     "status": "ok",
     "timestamp": 1665074736231,
     "user": {
      "displayName": "stefano romeo",
      "userId": "04091680816877563929"
     },
     "user_tz": -120
    },
    "id": "77KRHlFFhhNG",
    "outputId": "dba6b184-6bec-447d-abef-369969bbf0ad"
   },
   "outputs": [],
   "source": [
    "# To download the weights from Google Colab\n",
    "#!rm -r ./sample_data\n",
    "#!zip -r /content/Asterix_dueling.zip /content\n",
    "#from google.colab import files\n",
    "#files.download('Asterix_dueling.zip')"
   ]
  }
 ],
 "metadata": {
  "accelerator": "GPU",
  "colab": {
   "collapsed_sections": [],
   "provenance": []
  },
  "kernelspec": {
   "display_name": "Python 3 (ipykernel)",
   "language": "python",
   "name": "python3"
  },
  "language_info": {
   "codemirror_mode": {
    "name": "ipython",
    "version": 3
   },
   "file_extension": ".py",
   "mimetype": "text/x-python",
   "name": "python",
   "nbconvert_exporter": "python",
   "pygments_lexer": "ipython3",
   "version": "3.9.13"
  },
  "toc-autonumbering": true,
  "toc-showcode": false,
  "toc-showmarkdowntxt": false
 },
 "nbformat": 4,
 "nbformat_minor": 5
}
