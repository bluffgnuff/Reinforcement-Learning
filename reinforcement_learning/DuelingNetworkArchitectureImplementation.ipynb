{
 "cells": [
  {
   "cell_type": "markdown",
   "id": "ae84dfbf-263e-4d9a-ad88-2eaf271e4421",
   "metadata": {},
   "source": [
    "# Dueling Network Architecture Implementation\n",
    "The Duelling newtork is an artificial neural network architecture that has improved the state of the art in the DQN area used in combination with Dual DQN and Prioritized Expirience Replay. This approach splits the action value calculation using a combination of state value function and advantage function."
   ]
  },
  {
   "cell_type": "markdown",
   "id": "fc578666-0c50-4681-8b90-bc48ece391d6",
   "metadata": {},
   "source": [
    "# Searching for available environments\n",
    "We want to test the performance of our architecture with the Atari game 'BeamRider', we can check wich kind of version of this game are available."
   ]
  },
  {
   "cell_type": "code",
   "execution_count": 1,
   "id": "82d78d38-4889-44d7-a8cd-49d3c9059bad",
   "metadata": {},
   "outputs": [
    {
     "name": "stdout",
     "output_type": "stream",
     "text": [
      "ALE/BeamRider-ram-v5\n",
      "ALE/BeamRider-v5\n",
      "BeamRider-ram-v0\n",
      "BeamRider-ram-v4\n",
      "BeamRider-ramDeterministic-v0\n",
      "BeamRider-ramDeterministic-v4\n",
      "BeamRider-ramNoFrameskip-v0\n",
      "BeamRider-ramNoFrameskip-v4\n",
      "BeamRider-v0\n",
      "BeamRider-v4\n",
      "BeamRiderDeterministic-v0\n",
      "BeamRiderDeterministic-v4\n",
      "BeamRiderNoFrameskip-v0\n",
      "BeamRiderNoFrameskip-v4\n"
     ]
    },
    {
     "name": "stderr",
     "output_type": "stream",
     "text": [
      "/home/ste/anaconda3/lib/python3.9/site-packages/requests/packages/urllib3/_collections.py:2: DeprecationWarning: Using or importing the ABCs from 'collections' instead of from 'collections.abc' is deprecated since Python 3.3, and in 3.10 it will stop working\n",
      "  from collections import Mapping, MutableMapping\n"
     ]
    }
   ],
   "source": [
    "from gym import envs\n",
    "\n",
    "game_name = \"BeamRider\"\n",
    "\n",
    "all_envs = envs.registry.values()\n",
    "env_ids = [env_spec.id for env_spec in all_envs]\n",
    "\n",
    "for id in sorted(env_ids):\n",
    "    if game_name in id:\n",
    "        print(id)\n"
   ]
  },
  {
   "cell_type": "markdown",
   "id": "12c5b1aa-6e92-4ac3-9079-c49121fafaef",
   "metadata": {},
   "source": [
    "# Environment Configuration\n",
    "We select the version 4 of the enviroment with no frameskipping and select as render mode rgb array. The no frameskipping is used to make this enviroment compatible with the optimization made by *AtariPreprocessing*."
   ]
  },
  {
   "cell_type": "code",
   "execution_count": 1,
   "id": "3cecf335-3193-4ce8-90f5-dfe1c3a82e5f",
   "metadata": {},
   "outputs": [
    {
     "name": "stderr",
     "output_type": "stream",
     "text": [
      "/home/ste/anaconda3/lib/python3.9/site-packages/requests/packages/urllib3/_collections.py:2: DeprecationWarning: Using or importing the ABCs from 'collections' instead of from 'collections.abc' is deprecated since Python 3.3, and in 3.10 it will stop working\n",
      "  from collections import Mapping, MutableMapping\n",
      "A.L.E: Arcade Learning Environment (version 0.7.5+db37282)\n",
      "[Powered by Stella]\n",
      "/home/ste/anaconda3/lib/python3.9/site-packages/gym/core.py:329: DeprecationWarning: \u001b[33mWARN: Initializing wrapper in old step API which returns one bool instead of two. It is recommended to set `new_step_api=True` to use new step API. This will be the default behaviour in future.\u001b[0m\n",
      "  deprecation(\n",
      "/home/ste/anaconda3/lib/python3.9/site-packages/gym/wrappers/step_api_compatibility.py:39: DeprecationWarning: \u001b[33mWARN: Initializing environment in old step API which returns one bool instead of two. It is recommended to set `new_step_api=True` to use new step API. This will be the default behaviour in future.\u001b[0m\n",
      "  deprecation(\n"
     ]
    }
   ],
   "source": [
    "import matplotlib.pyplot as plt\n",
    "from gym import envs\n",
    "from gym.wrappers import AtariPreprocessing\n",
    "\n",
    "# Make Parameters:\n",
    "game_name = \"BeamRider\"\n",
    "game_mode = \"NoFrameskip\"  # [Deterministic | NoFrameskip | ram | ramDeterministic | ramNoFrameskip ]\n",
    "game_version = \"v4\"  # [v0 | v4 | v5]\n",
    "env_name = '{}{}-{}'.format(game_name, game_mode, game_version)\n",
    "env_render_mode = 'rgb_array'  # [human | rgb_array]\n",
    "env_frame_skip = 4\n",
    "\n",
    "env = envs.make(env_name, render_mode=env_render_mode)"
   ]
  },
  {
   "cell_type": "code",
   "execution_count": 2,
   "id": "23b68bf0-d09a-432b-9fe9-9991f0d8a84a",
   "metadata": {},
   "outputs": [
    {
     "name": "stderr",
     "output_type": "stream",
     "text": [
      "/home/ste/anaconda3/lib/python3.9/site-packages/gym/core.py:51: DeprecationWarning: \u001b[33mWARN: The argument mode in render method is deprecated; use render_mode during environment initialization instead.\n",
      "See here for more information: https://www.gymlibrary.ml/content/api/\u001b[0m\n",
      "  deprecation(\n",
      "/home/ste/anaconda3/lib/python3.9/site-packages/gym/utils/passive_env_checker.py:297: UserWarning: \u001b[33mWARN: No render fps was declared in the environment (env.metadata['render_fps'] is None or not defined), rendering may occur at inconsistent fps.\u001b[0m\n",
      "  logger.warn(\n"
     ]
    },
    {
     "data": {
      "text/plain": [
       "array([[[0, 0, 0],\n",
       "        [0, 0, 0],\n",
       "        [0, 0, 0],\n",
       "        ...,\n",
       "        [0, 0, 0],\n",
       "        [0, 0, 0],\n",
       "        [0, 0, 0]],\n",
       "\n",
       "       [[0, 0, 0],\n",
       "        [0, 0, 0],\n",
       "        [0, 0, 0],\n",
       "        ...,\n",
       "        [0, 0, 0],\n",
       "        [0, 0, 0],\n",
       "        [0, 0, 0]],\n",
       "\n",
       "       [[0, 0, 0],\n",
       "        [0, 0, 0],\n",
       "        [0, 0, 0],\n",
       "        ...,\n",
       "        [0, 0, 0],\n",
       "        [0, 0, 0],\n",
       "        [0, 0, 0]],\n",
       "\n",
       "       ...,\n",
       "\n",
       "       [[0, 0, 0],\n",
       "        [0, 0, 0],\n",
       "        [0, 0, 0],\n",
       "        ...,\n",
       "        [0, 0, 0],\n",
       "        [0, 0, 0],\n",
       "        [0, 0, 0]],\n",
       "\n",
       "       [[0, 0, 0],\n",
       "        [0, 0, 0],\n",
       "        [0, 0, 0],\n",
       "        ...,\n",
       "        [0, 0, 0],\n",
       "        [0, 0, 0],\n",
       "        [0, 0, 0]],\n",
       "\n",
       "       [[0, 0, 0],\n",
       "        [0, 0, 0],\n",
       "        [0, 0, 0],\n",
       "        ...,\n",
       "        [0, 0, 0],\n",
       "        [0, 0, 0],\n",
       "        [0, 0, 0]]], dtype=uint8)"
      ]
     },
     "execution_count": 2,
     "metadata": {},
     "output_type": "execute_result"
    }
   ],
   "source": [
    "env.reset() \n",
    "env.render(mode=\"rgb_array\")"
   ]
  },
  {
   "cell_type": "markdown",
   "id": "04326819-e929-40fe-9a26-ecfc317f7882",
   "metadata": {},
   "source": [
    "## Envorment Observations\n",
    "Below we have a fist look to the enviroment characteristics."
   ]
  },
  {
   "cell_type": "code",
   "execution_count": 3,
   "id": "143cf671-a4e9-46a5-b06c-5f66f83fdc22",
   "metadata": {},
   "outputs": [
    {
     "data": {
      "text/plain": [
       "Box(0, 255, (210, 160, 3), uint8)"
      ]
     },
     "execution_count": 3,
     "metadata": {},
     "output_type": "execute_result"
    }
   ],
   "source": [
    "env.observation_space"
   ]
  },
  {
   "cell_type": "code",
   "execution_count": 13,
   "id": "401a5ee2-bf0f-4721-be41-32c498caf4f3",
   "metadata": {},
   "outputs": [
    {
     "data": {
      "text/plain": [
       "9"
      ]
     },
     "execution_count": 13,
     "metadata": {},
     "output_type": "execute_result"
    }
   ],
   "source": [
    "env.action_space"
   ]
  },
  {
   "cell_type": "code",
   "execution_count": 6,
   "id": "2c5513e8-9f39-47bd-b667-a7436383795e",
   "metadata": {},
   "outputs": [
    {
     "data": {
      "text/plain": [
       "['NOOP',\n",
       " 'FIRE',\n",
       " 'UP',\n",
       " 'RIGHT',\n",
       " 'LEFT',\n",
       " 'UPRIGHT',\n",
       " 'UPLEFT',\n",
       " 'RIGHTFIRE',\n",
       " 'LEFTFIRE']"
      ]
     },
     "execution_count": 6,
     "metadata": {},
     "output_type": "execute_result"
    }
   ],
   "source": [
    "env.unwrapped.get_action_meanings()"
   ]
  },
  {
   "cell_type": "code",
   "execution_count": 7,
   "id": "78da9482-4415-4d63-83f0-e27cc579673c",
   "metadata": {},
   "outputs": [
    {
     "data": {
      "text/plain": [
       "<matplotlib.image.AxesImage at 0x7fc245f59160>"
      ]
     },
     "execution_count": 7,
     "metadata": {},
     "output_type": "execute_result"
    },
    {
     "data": {
      "image/png": "[encoded data removed]",
      "text/plain": [
       "<Figure size 640x480 with 1 Axes>"
      ]
     },
     "metadata": {},
     "output_type": "display_data"
    }
   ],
   "source": [
    "plt.imshow(env.render(mode=env_render_mode))"
   ]
  },
  {
   "cell_type": "markdown",
   "id": "39ad4449-5a13-4032-9645-53f78265617b",
   "metadata": {},
   "source": [
    "## Enviroment Optimization\n",
    "We optimize the enviroment adding the frame skipping, changing its observation in greyscale and following the experiment did in the paper we set to at most 30 the no-op actions; to get this we use the AtariPreprocessing wrapper."
   ]
  },
  {
   "cell_type": "code",
   "execution_count": 8,
   "id": "63a89f89-355e-407a-a036-d1d14bfe3fba",
   "metadata": {},
   "outputs": [],
   "source": [
    "env_prep = AtariPreprocessing(env, frame_skip = env_frame_skip, grayscale_obs = True, noop_max = 30 ) #noop_max; screen_size"
   ]
  },
  {
   "cell_type": "code",
   "execution_count": 9,
   "id": "43876bf8-8f34-4118-990a-dba1bbbc67fd",
   "metadata": {},
   "outputs": [
    {
     "name": "stderr",
     "output_type": "stream",
     "text": [
      "/home/ste/anaconda3/lib/python3.9/site-packages/gym/utils/passive_env_checker.py:227: DeprecationWarning: \u001b[33mWARN: Core environment is written in old step API which returns one bool instead of two. It is recommended to rewrite the environment with new step API. \u001b[0m\n",
      "  logger.deprecation(\n"
     ]
    },
    {
     "data": {
      "text/plain": [
       "array([[0, 0, 0, ..., 0, 0, 0],\n",
       "       [0, 0, 0, ..., 0, 0, 0],\n",
       "       [0, 0, 0, ..., 0, 0, 0],\n",
       "       ...,\n",
       "       [0, 0, 0, ..., 0, 0, 0],\n",
       "       [0, 0, 0, ..., 0, 0, 0],\n",
       "       [0, 0, 0, ..., 0, 0, 0]], dtype=uint8)"
      ]
     },
     "execution_count": 9,
     "metadata": {},
     "output_type": "execute_result"
    }
   ],
   "source": [
    "env_prep.reset()"
   ]
  },
  {
   "cell_type": "code",
   "execution_count": 10,
   "id": "51c6620c-52ee-48de-bc6b-4caba64b8f1f",
   "metadata": {},
   "outputs": [
    {
     "data": {
      "text/plain": [
       "(84, 84)"
      ]
     },
     "execution_count": 10,
     "metadata": {},
     "output_type": "execute_result"
    }
   ],
   "source": [
    "env_prep.observation_space.shape"
   ]
  },
  {
   "cell_type": "code",
   "execution_count": 11,
   "id": "bc0fe740-872e-45c9-aad3-cd23de8bd9dd",
   "metadata": {},
   "outputs": [
    {
     "data": {
      "text/plain": [
       "<matplotlib.image.AxesImage at 0x7fc23de6b190>"
      ]
     },
     "execution_count": 11,
     "metadata": {},
     "output_type": "execute_result"
    },
    {
     "data": {
      "image/png": "[encoded data removed]",
      "text/plain": [
       "<Figure size 640x480 with 1 Axes>"
      ]
     },
     "metadata": {},
     "output_type": "display_data"
    }
   ],
   "source": [
    "plt.imshow(env_prep.render(mode=env_render_mode))"
   ]
  },
  {
   "cell_type": "markdown",
   "id": "9dccc025-b2ae-48c8-a70d-0e146d5c9d7c",
   "metadata": {
    "tags": []
   },
   "source": [
    "# Network configuration"
   ]
  },
  {
   "cell_type": "markdown",
   "id": "5ddb99df-922b-4ef1-9865-8d653c135eb8",
   "metadata": {},
   "source": [
    "## Network parameters"
   ]
  },
  {
   "cell_type": "code",
   "execution_count": 12,
   "id": "e58cc1cd-e7dc-4f40-ba18-b5127abc5fff",
   "metadata": {},
   "outputs": [
    {
     "name": "stderr",
     "output_type": "stream",
     "text": [
      "2022-09-14 17:44:33.257279: I tensorflow/core/platform/cpu_feature_guard.cc:193] This TensorFlow binary is optimized with oneAPI Deep Neural Network Library (oneDNN) to use the following CPU instructions in performance-critical operations:  AVX2 FMA\n",
      "To enable them in other operations, rebuild TensorFlow with the appropriate compiler flags.\n",
      "2022-09-14 17:44:33.865599: E tensorflow/stream_executor/cuda/cuda_blas.cc:2981] Unable to register cuBLAS factory: Attempting to register factory for plugin cuBLAS when one has already been registered\n",
      "2022-09-14 17:44:34.773513: W tensorflow/stream_executor/platform/default/dso_loader.cc:64] Could not load dynamic library 'libnvinfer.so.7'; dlerror: libnvinfer.so.7: cannot open shared object file: No such file or directory; LD_LIBRARY_PATH: /home/ste/anaconda3/lib/python3.9/site-packages/cv2/../../lib64::/home/ste/.mujoco/mujoco210/bin:/usr/lib/nvidia:/home/ste/anaconda3/lib/\n",
      "2022-09-14 17:44:34.773673: W tensorflow/stream_executor/platform/default/dso_loader.cc:64] Could not load dynamic library 'libnvinfer_plugin.so.7'; dlerror: libnvinfer_plugin.so.7: cannot open shared object file: No such file or directory; LD_LIBRARY_PATH: /home/ste/anaconda3/lib/python3.9/site-packages/cv2/../../lib64::/home/ste/.mujoco/mujoco210/bin:/usr/lib/nvidia:/home/ste/anaconda3/lib/\n",
      "2022-09-14 17:44:34.773681: W tensorflow/compiler/tf2tensorrt/utils/py_utils.cc:38] TF-TRT Warning: Cannot dlopen some TensorRT libraries. If you would like to use Nvidia GPU with TensorRT, please make sure the missing libraries mentioned above are installed properly.\n",
      "/home/ste/anaconda3/lib/python3.9/site-packages/h5py/__init__.py:46: DeprecationWarning: `np.typeDict` is a deprecated alias for `np.sctypeDict`.\n",
      "  from ._conv import register_converters as _register_converters\n"
     ]
    }
   ],
   "source": [
    "import tensorflow as tf\n",
    "import numpy as np\n",
    "from tensorflow.keras import losses \n",
    "from tensorflow.keras import optimizers\n",
    "\n",
    "input_shape = env_prep.observation_space.shape\n",
    "num_actions = env_prep.action_space.n\n",
    "min_epsilon = 0.001"
   ]
  },
  {
   "cell_type": "markdown",
   "id": "e579e3d9-51f6-4612-bf77-25db75a98d4a",
   "metadata": {
    "tags": []
   },
   "source": [
    "## Policy\n",
    "The policy is the component that choose the action to perform; using an $\\epsilon$-gready policy the action choosen can be a radom one with probability $\\epsilon$ and an action suggested by the ANN with probability $1 - \\epsilon$.\n",
    "From paper: \" When acting, it suffices to evaluate the advantage stream to make decisions.\""
   ]
  },
  {
   "cell_type": "code",
   "execution_count": 13,
   "id": "7c3213c2-3be1-4337-bf89-5a32f9dbf2c8",
   "metadata": {
    "tags": []
   },
   "outputs": [],
   "source": [
    "def epsilon_greedy_policy(state, model, action_space_size, episode, min_epsilon=0):\n",
    "    epsilon = max(1 - episode / 500, min_epsilon)\n",
    "\n",
    "    if np.random.rand() < epsilon:\n",
    "        return np.random.randint(action_space_size)\n",
    "    else:\n",
    "        q_values = model.predict(state[np.newaxis])\n",
    "        return np.argmax(q_values[0])"
   ]
  },
  {
   "cell_type": "markdown",
   "id": "257d096c-c9d8-4012-9400-25075d3779cc",
   "metadata": {
    "tags": []
   },
   "source": [
    "## Neural Network Creation\n",
    "The creation of the DQN Model is based on the example presented in https://keras.io/examples/rl/deep_q_network_breakout/. The network architecture proposed follows the structure proposed in *\"Dueling Network Architectures for Deep Reinforcement Learning\"* https://arxiv.org/abs/1511.06581 composed by 3 convolutional layers and 2 fully connected layer for each stream (advantage, value).\n",
    "It's possible to create a dueling network using the `DQNAgent` of `rl.agents.dqn` setting `enable_dueling_network=True` in the constructor, but the perpouse of this experiment is to show how to develop it manually so that is not used.\n",
    "\n",
    "The output of the value stream and the output of the advantage stream are merged to obtain the action-value function in the last module of the network using the following formula:\n",
    "$$ Q(s, a; \\theta, \\alpha, \\beta) = V (s;\\theta, \\beta) + ( A(s, a; \\theta, \\alpha) − max_{a' ∈|A|} A(s, a'; \\theta, \\alpha)) $$\n",
    "\n",
    "Following the paper: \n",
    "\"Since both the advantage and the value stream propagate gradients to the last convolutional layer in the backward pass, we rescale the combined gradient entering the last convolutional layer by $\\frac{1} {\\sqrt2}$.\""
   ]
  },
  {
   "cell_type": "code",
   "execution_count": 14,
   "id": "0a878b21-2040-4ca8-aeff-3563499bf9f9",
   "metadata": {},
   "outputs": [],
   "source": [
    "from tensorflow.keras import layers\n",
    "from tensorflow.keras import Model\n",
    "\n",
    "\n",
    "def create_dueling_model(input_shape, action_number):\n",
    "    inputs = layers.Input(shape=input_shape)\n",
    "\n",
    "    # Convolutions on the frames on the screen\n",
    "    layer1 = layers.Conv1D(32, 8, strides=4, activation=\"relu\")(inputs)\n",
    "    layer2 = layers.Conv1D(64, 4, strides=2, activation=\"relu\")(layer1)\n",
    "    layer3 = layers.Conv1D(64, 3, strides=1, activation=\"relu\")(layer2)\n",
    "    layer4 = layers.Flatten()(layer3)\n",
    "\n",
    "    value_stream_1 = layers.Dense(512)(layer4)\n",
    "    value_stream_2 = layers.Dense(1)(value_stream_1)  # scalar output size\n",
    "\n",
    "    advantage_stream_1 = layers.Dense(512)(layer4)\n",
    "    advantage_stream_2 = layers.Dense(action_number)(advantage_stream_1)  # output size equal to the actions available\n",
    "\n",
    "    # Combination of the streams: a Q value for each state\n",
    "    q_values = value_stream_2 + (advantage_stream_2 - tf.math.reduce_mean(advantage_stream_2, axis=1, keepdims=True))\n",
    "\n",
    "    # Alternative q_value\n",
    "    # q_value = value_stream_2 + (advantage_stream_2 - backend.max(advantage_stream_2, axis=1, keepdims=True))\n",
    "    return Model(inputs=[inputs], outputs=[q_values])\n"
   ]
  },
  {
   "cell_type": "markdown",
   "id": "364dba26-35cc-4d53-878a-6bf0496b5a24",
   "metadata": {
    "tags": []
   },
   "source": [
    "# Training\n",
    "The learnig step is executed with **Double Deep Q-networks** algorithm presented in the paper *\"Deep reinforcement learning with double Q-learning\"*.https://arxiv.org/pdf/1509.06461.pdf."
   ]
  },
  {
   "cell_type": "markdown",
   "id": "23e16f49-345d-460c-922d-f529d9291a07",
   "metadata": {},
   "source": [
    "## Training parameters\n",
    "We adopt as optimizer the **Adam** implementation setting the learning rate equal to $6.25x10^{-5}$ and **clipping the gradient** norm at most to 10; the parameters are specified in the paper \"*Deep reinforcement learning with double Q-learning*\" (https://arxiv.org/pdf/1509.06461.pdf)\n",
    "To evaluate the loss score we use the `mean_squared_error`. "
   ]
  },
  {
   "cell_type": "code",
   "execution_count": 15,
   "id": "4742cf2f-c7c6-403e-9da9-32d47e7717da",
   "metadata": {},
   "outputs": [],
   "source": [
    "batch_size = 32\n",
    "buffer_size = 2000\n",
    "loss_function = losses.mean_squared_error\n",
    "\n",
    "discount_factor = 0.95\n",
    "learning_rate = 6.25e-5\n",
    "max_episodes = 600\n",
    "primary_model_file_name = \"dueling_primary_model.h5\"\n",
    "target_model_file_name = \"dueling_target_model.h5\"\n",
    "\n",
    "# Setting the optimizer with the clipping to have the norm <= 10\n",
    "optimizer = optimizers.Adam(learning_rate=learning_rate, clipnorm=10)"
   ]
  },
  {
   "cell_type": "markdown",
   "id": "6d9f6dd9-3076-4c01-bf7f-01b9400c6fc2",
   "metadata": {
    "tags": []
   },
   "source": [
    "## Prioritized experience replay\n",
    "The Prioritized experience replay was introduced in the paper \"Prioritized experience replay\" (https://arxiv.org/abs/1511.05952), it consists in an evolution in the replay buffer usage, ordering by priority the experience to replay. In this experiment we adopt the **rank-based** variant where the experience sampling from the buffer it's done with probability $ P(i) = \\frac{p_{i}^{\\alpha}}{\\sum_k{p_{k}^{\\alpha}}} $ and $p(i)=\\frac{1}{rank(i)}$ where $rank(i)$ is the rank of the -ith transition when the buffer is sorted by the TD error $\\delta$ of each experience; $\\alpha$ is called **priority exponent**. Is also compute the importance sampling weights as $w_j = \\frac{(N . P(i))^{-\\beta}}{max_i{w_i}} $ and $w_i = (\\frac{1}{N} . \\frac{1}{P(i)})^\\beta$\n",
    "\n",
    "In both the paper the parameters are setted as follow: **priority exponent** $\\alpha= 0.7$,  the **importance sampling exponent** $\\beta = [0.5, 1]$.\n",
    "In the paper is proposed a **heap array** structure to implement the buffer. Due to the particular structure and the amount of property of the replay buffer in the Prioritized Experience Replay, we choose to describe it as a class. The heap array structure is implemented as a deque sorted every *T* step.\n",
    "\n",
    "In the Prioritized experience replay paper another kind of implementation in propoused that consistes in the divition of the buffer in a *batchsize* parts and sampling from them; this garantees to have a sample for each rank category. We follow the first implementation using the numpy *zipf* function."
   ]
  },
  {
   "cell_type": "markdown",
   "id": "255c4fef-7fd8-4e38-9eac-b7623174d588",
   "metadata": {
    "tags": []
   },
   "source": [
    "### Replication Buffer"
   ]
  },
  {
   "cell_type": "code",
   "execution_count": 16,
   "id": "9d888860-122e-464c-aa91-525929d88e3b",
   "metadata": {},
   "outputs": [
    {
     "ename": "IndentationError",
     "evalue": "expected an indented block (2186788287.py, line 3)",
     "output_type": "error",
     "traceback": [
      "\u001b[0;36m  File \u001b[0;32m\"/tmp/ipykernel_9215/2186788287.py\"\u001b[0;36m, line \u001b[0;32m3\u001b[0m\n\u001b[0;31m    def remove_experience():\u001b[0m\n\u001b[0m    ^\u001b[0m\n\u001b[0;31mIndentationError\u001b[0m\u001b[0;31m:\u001b[0m expected an indented block\n"
     ]
    }
   ],
   "source": [
    "class PrioritizedExperienceReplay:\n",
    "    def add_experience():\n",
    "    def remove_experience():\n",
    "    def sample_experience():"
   ]
  },
  {
   "cell_type": "code",
   "execution_count": 17,
   "id": "9e8897eb-7fea-48e8-93d4-cfd169a6278a",
   "metadata": {},
   "outputs": [
    {
     "ename": "SyntaxError",
     "evalue": "invalid syntax (3768136602.py, line 52)",
     "output_type": "error",
     "traceback": [
      "\u001b[0;36m  File \u001b[0;32m\"/tmp/ipykernel_9215/3768136602.py\"\u001b[0;36m, line \u001b[0;32m52\u001b[0m\n\u001b[0;31m    importance_sampling_weight =/ max_weight\u001b[0m\n\u001b[0m                                ^\u001b[0m\n\u001b[0;31mSyntaxError\u001b[0m\u001b[0;31m:\u001b[0m invalid syntax\n"
     ]
    }
   ],
   "source": [
    "#import heapq as heap\n",
    "\n",
    "# We set a time to haepify to sort the buffer every K time step.\n",
    "class PrioritizedExperienceReplayWithRank:\n",
    "    \"\"\"\n",
    "    contains the tuples (TD_error, experience)\n",
    "    replay_buffer --- its the max size of the buffer, over which before add an experience one is remove \n",
    "    max_buffer_size --- time step before sort the structure\n",
    "    time_to_haepify --- the last time step\n",
    "    mod_curr_step = 0  --- the alpha parameter used to calculate the probability of the i-th element P(i) to be sampled\n",
    "    alpha\n",
    "    \"\"\"\n",
    "    \n",
    "    def __init__(self, alpha, max_buffer_size, time_to_haepify):\n",
    "        self.replay_buffer = deque(maxlen=2000)\n",
    "        self.alpha = alpha\n",
    "        self.max_buffer_size = max_buffer_size\n",
    "        self.mod_curr_step = 0\n",
    "        self.time_to_haepify = time_to_haepify \n",
    "        \n",
    "    def add_experience(self, experience, TD_error):\n",
    "        if (len(self.replay_buffer) == self.max_buffer_size):\n",
    "            self.remove_experience()\n",
    "        \n",
    "        self.replay_buffer.append((TD_error,self.experience))\n",
    "        self.mod_curr_step += 1 \n",
    "        \n",
    "        if (self.mod_curr_step == time_to_haepify):\n",
    "            self.replay_buffer.sort(reverse=True)\n",
    "\n",
    "    def remove_experience(self):\n",
    "        self.replay_buffer.pop(-1)\n",
    "            \n",
    "    def sample_experience(self, batch_size, beta):\n",
    "        experiences = []\n",
    "        importance_sampling_weight = []\n",
    "        N = len(self.replay_buffer)\n",
    "        \n",
    "        for i in range(batch_size):    \n",
    "            index = np.random.zipf(self.alpha, len(self.replay_buffer))\n",
    "            \n",
    "            ## Check to garantee that a specific index appear just once\n",
    "            while index in indexes:\n",
    "                index = np.random.zipf(self.alpha, N)\n",
    "            \n",
    "            Pj = 1/index\n",
    "            importance_sampling_weight.append((N * Pj ** (-beta)))\n",
    "            experiences.append(self.replay_buffer[index][1])\n",
    "        \n",
    "        ## Normalization step\n",
    "        max_weight = max(importance_sampling_weight)\n",
    "        importance_sampling_weight =/ max_weight\n",
    "        \n",
    "        return experiences, importance_sampling_weight    \n",
    "\n",
    "       \n",
    "        "
   ]
  },
  {
   "cell_type": "markdown",
   "id": "e391a27a-28ac-4d3d-9c8f-b42bb303bd76",
   "metadata": {
    "tags": []
   },
   "source": [
    "## Play one step\n",
    "With this function we want to ask to the policy what action must be choosen and perform it on the evniroment."
   ]
  },
  {
   "cell_type": "code",
   "execution_count": 18,
   "id": "c1853e99-1541-43b8-bb23-0a3d5c8f6521",
   "metadata": {},
   "outputs": [],
   "source": [
    "from tensorflow.keras.models import load_model\n",
    "\n",
    "# Execs one action receiving in input the enviroment, its state\n",
    "def play_one_step(env, state, model, replay_buffer, episode, action_space_size, min_epsilon = 0, training = True):\n",
    "    action = epsilon_greedy_policy(state, model, action_space_size, episode, min_epsilon)\n",
    "    print(\"action {}\".format(action))\n",
    "    next_state, reward, done, info = env.step(action)\n",
    "    if training:\n",
    "        replay_buffer.append(state, action, reward, next_state, done)\n",
    "    return action, reward, next_state, done, info\n",
    "    "
   ]
  },
  {
   "cell_type": "markdown",
   "id": "bdec3a88-954a-49f5-96b9-a6d34c29a16d",
   "metadata": {
    "tags": []
   },
   "source": [
    "## Gradient \n",
    "The gradient is the mathematical function that calcualte the weights update in the ANN following the gradient minimization tecnique. In our scenario the gradient that is backpropageted to the last convolutional layer must be rescaled by $\\frac{1}{\\sqrt{2}}$"
   ]
  },
  {
   "cell_type": "code",
   "execution_count": 19,
   "id": "5f0b41cc-a05c-4aed-bdde-76aed7d0621c",
   "metadata": {},
   "outputs": [],
   "source": [
    "## TODO Concludere le modifiche al gradiente\n",
    "## TODO Scegliere come ripartire tra le funzioni le modifiche al gradiente\n",
    "def gradient_computation(model, states, mask, loss_function, target_Q_values, axis=1, keepdims=True):\n",
    "    with tf.GradientTape() as tape:\n",
    "        all_q_values = model(states)\n",
    "        q_values = tf.reduce_sum(all_q_values * mask, axis=1, keepdims=True)\n",
    "        loss = tf.reduce_mean(loss_function(target_Q_values, q_values))\n",
    "        grads = tape.gradient(loss, model.trainable_variables)\n",
    "        ##TODO check that the mask works as expected\n",
    "        ## We can use the mask to multiply the loss in the last convolutional layer by the scale (1/sqrt(2))\n",
    "        ## The following code block can be useful to identify the right layer position\n",
    "        ## for m in model.trainable_variables:\n",
    "        ##     print(\"trainable_weights = \", m.name)\n",
    "        optimization_mask = [1, 1, 1, 1, (1 / tf.sqrt(2)), 1, 1, 1, 1, 1, 1]\n",
    "        grads_rescaled = grads * optimization_mask\n",
    "    return grads_rescaled"
   ]
  },
  {
   "cell_type": "markdown",
   "id": "c45bd489-2d61-4334-b692-51a88f5ecb29",
   "metadata": {
    "tags": []
   },
   "source": [
    "## Double DQN Training\n",
    "This training algorithm uses a second network, beyond the network used for the prediction. So in the training process one network is used to evalute an action and an other to evaluate it, this permit to mitigate the overfitting present in the classic DQN. "
   ]
  },
  {
   "cell_type": "code",
   "execution_count": 20,
   "id": "f95beea4-14d8-40d5-932b-7db584c768e1",
   "metadata": {},
   "outputs": [],
   "source": [
    "# The training step collects samples of the previous experiences from the replay buffer and use them to improve the weights update of the Neural Network.\n",
    "def double_DQN_training_step(batch_size, model_primary, model_target, pre_rank_based, loss_function, discount_factor, current_step, freq_replacement):\n",
    "    experiences = sample_experiences(batch_size, replay_buffer)   \n",
    "    states, actions, rewards, next_states, dones = experiences\n",
    "    \n",
    "    # Predict using the primary network\n",
    "    next_Q_values = model_primary.predict(next_states)\n",
    "    next_Q_values_target = model_target.predict(next_states)\n",
    "    \n",
    "    # Select the action that lead us to the higher next Q value \n",
    "    best_action = np.argmax(next_Q_values, axis=1)\n",
    "    next_Q_value_target = next_Q_values_target[best_action]\n",
    "\n",
    "    # if dones = 1 (no future state)target_Q_values = r; else target_Q_values = rewards + discount_factor*max_next_Q_values\n",
    "    target_Q_values = (rewards + (1-dones)*discount_factor*next_Q_value_target)\n",
    "    \n",
    "    # TODO gradient descent \n",
    "    mask = tf.one_hot(target_Q_values)\n",
    "    grads = gradient_computation(model_primary, states, mask, loss_function, target_Q_values)\n",
    "    \n",
    "    ## TODO update weights using the sample importance of the Prioritized replay expirience\n",
    "    ## TODO !!!!!!!!!!\n",
    "            ## L operazione sottostante potrebbe essere svolta nel trainig della DQN usando la correzione restituita\n",
    "            #weights = weights + loss * weight_corrections_j + gradient\n",
    "        \n",
    "    # Application gradient descent troguht optimizer\n",
    "    optimizer.apply_gradients(zip(grads, model.trainable_variables))\n",
    "    \n",
    "    if current_step == freq_replacement:\n",
    "        model_target.model_primary.set_weights(model_primary.trainable_weights)\n",
    "\n",
    "# We use the training step just when there is enough samples on the replay buffer\n",
    "def double_DQN_training(env, model_primary, model_target, replay_buffer, loss_function, batch_size, min_epsilon, action_space_size, discount_factor, freq_replacement, max_episodes = 600, episode_before_training = 50):    \n",
    "    rewards = [0]       \n",
    "    \n",
    "    for episode in range(max_episodes): \n",
    "        obs = env.reset()\n",
    "        done = False\n",
    "        cumulative_reward = 0\n",
    "        step = 0\n",
    "    \n",
    "        while True:\n",
    "            env_prep.render(mode=env_render_mode)\n",
    "            \n",
    "            obs_old = obs\n",
    "            action, reward, next_state, done, info = play_one_step(env, obs, model, replay_buffer, episode, action_space_size, min_epsilon)\n",
    "            cumulative_reward += reward        \n",
    "        \n",
    "            # This structure in the paper was crated in before the episode and the experience was stocked in it; I don't if that was done for performance reason (creation cost of a new list at each time step)\n",
    "            frames = [obs_old, action, reward, obs]\n",
    "            add_experience_in_buffer(replay_buffer, frames)\n",
    "            \n",
    "            if episode > episode_before_training:\n",
    "                double_DQN_training_step(batch_size, model_primary, model_target, replay_buffer, loss_function, discount_factor, step, freq_replacement)\n",
    "            step = step +1\n",
    "            \n",
    "            if done:\n",
    "                print(\"DONE episode = {} number of steps = {} reward =  {}\".format( episode, step, cumulative_reward))\n",
    "                rewards.append(cumulative_reward)\n",
    "                break\n",
    "    return model, rewards"
   ]
  },
  {
   "cell_type": "markdown",
   "id": "9538fe86-67f4-4292-b80c-0225a088b271",
   "metadata": {},
   "source": [
    "## Result plots"
   ]
  },
  {
   "cell_type": "code",
   "execution_count": 21,
   "id": "6ef6ec3d-002c-4d30-9052-4e05db6839a0",
   "metadata": {},
   "outputs": [],
   "source": [
    "def plot_result(max_episodes,returns):\n",
    "    plt.ylabel('Reward')\n",
    "    plt.xlabel('Episode')\n",
    "    plt.plot(max_episodes, returns)\n",
    "    plt.show()\n",
    "    return"
   ]
  },
  {
   "cell_type": "markdown",
   "id": "b012bf50-d20e-4791-beda-7e05d9f9f576",
   "metadata": {},
   "source": [
    "# Play"
   ]
  },
  {
   "cell_type": "code",
   "execution_count": 22,
   "id": "2aadf752-7a90-40ef-a46d-8ab502a5b135",
   "metadata": {},
   "outputs": [],
   "source": [
    "def play(env, model, min_epsilon, action_space_size):   \n",
    "    while True:\n",
    "        env_prep.render(mode=env_render_mode)\n",
    "        epsilon = 0\n",
    "        obs, reward, done, info = play_one_step(env, obs, None, min_epsilon, training = False)\n",
    "\n",
    "        if done:\n",
    "            print(\"DONE episode = {} number of steps = {} reward =  {}\".format( episode, step, cumulative_reward))\n",
    "            rewards.append(reward)\n",
    "            break\n",
    "\n",
    "    print('last episode = {} reward = {}'.format(episode, reward))\n",
    "\n",
    "    return episode, reward"
   ]
  },
  {
   "cell_type": "markdown",
   "id": "3cf8325f-d204-47a9-84d0-e0532a453eb5",
   "metadata": {},
   "source": [
    "# Run Training"
   ]
  },
  {
   "cell_type": "code",
   "execution_count": 23,
   "id": "ef554953-be5f-4c07-9537-7f61a548629a",
   "metadata": {},
   "outputs": [
    {
     "name": "stdout",
     "output_type": "stream",
     "text": [
      "Model: \"model\"\n",
      "__________________________________________________________________________________________________\n",
      " Layer (type)                   Output Shape         Param #     Connected to                     \n",
      "==================================================================================================\n",
      " input_1 (InputLayer)           [(None, 84, 84)]     0           []                               \n",
      "                                                                                                  \n",
      " conv1d (Conv1D)                (None, 20, 32)       21536       ['input_1[0][0]']                \n",
      "                                                                                                  \n",
      " conv1d_1 (Conv1D)              (None, 9, 64)        8256        ['conv1d[0][0]']                 \n",
      "                                                                                                  \n",
      " conv1d_2 (Conv1D)              (None, 7, 64)        12352       ['conv1d_1[0][0]']               \n",
      "                                                                                                  \n",
      " flatten (Flatten)              (None, 448)          0           ['conv1d_2[0][0]']               \n",
      "                                                                                                  \n",
      " dense_2 (Dense)                (None, 512)          229888      ['flatten[0][0]']                \n",
      "                                                                                                  \n",
      " dense_3 (Dense)                (None, 9)            4617        ['dense_2[0][0]']                \n",
      "                                                                                                  \n",
      " dense (Dense)                  (None, 512)          229888      ['flatten[0][0]']                \n",
      "                                                                                                  \n",
      " tf.math.reduce_mean (TFOpLambd  (None, 1)           0           ['dense_3[0][0]']                \n",
      " a)                                                                                               \n",
      "                                                                                                  \n",
      " dense_1 (Dense)                (None, 1)            513         ['dense[0][0]']                  \n",
      "                                                                                                  \n",
      " tf.math.subtract (TFOpLambda)  (None, 9)            0           ['dense_3[0][0]',                \n",
      "                                                                  'tf.math.reduce_mean[0][0]']    \n",
      "                                                                                                  \n",
      " tf.__operators__.add (TFOpLamb  (None, 9)           0           ['dense_1[0][0]',                \n",
      " da)                                                              'tf.math.subtract[0][0]']       \n",
      "                                                                                                  \n",
      "==================================================================================================\n",
      "Total params: 507,050\n",
      "Trainable params: 507,050\n",
      "Non-trainable params: 0\n",
      "__________________________________________________________________________________________________\n"
     ]
    },
    {
     "name": "stderr",
     "output_type": "stream",
     "text": [
      "2022-09-14 17:44:39.878265: I tensorflow/stream_executor/cuda/cuda_gpu_executor.cc:980] successful NUMA node read from SysFS had negative value (-1), but there must be at least one NUMA node, so returning NUMA node zero\n",
      "2022-09-14 17:44:39.970284: I tensorflow/stream_executor/cuda/cuda_gpu_executor.cc:980] successful NUMA node read from SysFS had negative value (-1), but there must be at least one NUMA node, so returning NUMA node zero\n",
      "2022-09-14 17:44:39.970951: I tensorflow/stream_executor/cuda/cuda_gpu_executor.cc:980] successful NUMA node read from SysFS had negative value (-1), but there must be at least one NUMA node, so returning NUMA node zero\n",
      "2022-09-14 17:44:39.972894: I tensorflow/core/platform/cpu_feature_guard.cc:193] This TensorFlow binary is optimized with oneAPI Deep Neural Network Library (oneDNN) to use the following CPU instructions in performance-critical operations:  AVX2 FMA\n",
      "To enable them in other operations, rebuild TensorFlow with the appropriate compiler flags.\n",
      "2022-09-14 17:44:39.974488: I tensorflow/stream_executor/cuda/cuda_gpu_executor.cc:980] successful NUMA node read from SysFS had negative value (-1), but there must be at least one NUMA node, so returning NUMA node zero\n",
      "2022-09-14 17:44:39.975131: I tensorflow/stream_executor/cuda/cuda_gpu_executor.cc:980] successful NUMA node read from SysFS had negative value (-1), but there must be at least one NUMA node, so returning NUMA node zero\n",
      "2022-09-14 17:44:39.975555: I tensorflow/stream_executor/cuda/cuda_gpu_executor.cc:980] successful NUMA node read from SysFS had negative value (-1), but there must be at least one NUMA node, so returning NUMA node zero\n",
      "2022-09-14 17:44:40.878711: I tensorflow/stream_executor/cuda/cuda_gpu_executor.cc:980] successful NUMA node read from SysFS had negative value (-1), but there must be at least one NUMA node, so returning NUMA node zero\n",
      "2022-09-14 17:44:40.879279: I tensorflow/stream_executor/cuda/cuda_gpu_executor.cc:980] successful NUMA node read from SysFS had negative value (-1), but there must be at least one NUMA node, so returning NUMA node zero\n",
      "2022-09-14 17:44:40.879449: I tensorflow/stream_executor/cuda/cuda_gpu_executor.cc:980] successful NUMA node read from SysFS had negative value (-1), but there must be at least one NUMA node, so returning NUMA node zero\n",
      "2022-09-14 17:44:40.879564: I tensorflow/core/common_runtime/gpu/gpu_device.cc:1616] Created device /job:localhost/replica:0/task:0/device:GPU:0 with 3358 MB memory:  -> device: 0, name: NVIDIA GeForce GTX 1050 Ti, pci bus id: 0000:01:00.0, compute capability: 6.1\n"
     ]
    },
    {
     "ename": "NameError",
     "evalue": "name 'PrioritizedExperienceReplayWithRank' is not defined",
     "output_type": "error",
     "traceback": [
      "\u001b[0;31m---------------------------------------------------------------------------\u001b[0m",
      "\u001b[0;31mNameError\u001b[0m                                 Traceback (most recent call last)",
      "\u001b[0;32m/tmp/ipykernel_9215/3167259789.py\u001b[0m in \u001b[0;36m<cell line: 21>\u001b[0;34m()\u001b[0m\n\u001b[1;32m     19\u001b[0m \u001b[0;31m# Print a summary about the model\u001b[0m\u001b[0;34m\u001b[0m\u001b[0;34m\u001b[0m\u001b[0m\n\u001b[1;32m     20\u001b[0m \u001b[0mmodel_primary\u001b[0m\u001b[0;34m.\u001b[0m\u001b[0msummary\u001b[0m\u001b[0;34m(\u001b[0m\u001b[0;34m)\u001b[0m\u001b[0;34m\u001b[0m\u001b[0;34m\u001b[0m\u001b[0m\n\u001b[0;32m---> 21\u001b[0;31m \u001b[0mpre_rank_based\u001b[0m \u001b[0;34m=\u001b[0m \u001b[0mPrioritizedExperienceReplayWithRank\u001b[0m\u001b[0;34m(\u001b[0m\u001b[0;34m)\u001b[0m\u001b[0;34m\u001b[0m\u001b[0;34m\u001b[0m\u001b[0m\n\u001b[0m\u001b[1;32m     22\u001b[0m \u001b[0mmodel\u001b[0m\u001b[0;34m,\u001b[0m \u001b[0mrewards\u001b[0m \u001b[0;34m=\u001b[0m \u001b[0mdouble_DQN_training\u001b[0m\u001b[0;34m(\u001b[0m\u001b[0menv_prep\u001b[0m\u001b[0;34m,\u001b[0m \u001b[0mmodel_primary\u001b[0m\u001b[0;34m,\u001b[0m \u001b[0mmodel_target\u001b[0m\u001b[0;34m,\u001b[0m \u001b[0mpre_rank_based\u001b[0m\u001b[0;34m,\u001b[0m \u001b[0mloss_function\u001b[0m\u001b[0;34m,\u001b[0m \u001b[0mbatch_size\u001b[0m\u001b[0;34m,\u001b[0m \u001b[0mmin_epsilon\u001b[0m\u001b[0;34m,\u001b[0m \u001b[0maction_space_size\u001b[0m\u001b[0;34m,\u001b[0m \u001b[0mdiscount_factor\u001b[0m\u001b[0;34m,\u001b[0m \u001b[0mmax_episodes\u001b[0m \u001b[0;34m=\u001b[0m \u001b[0;36m600\u001b[0m\u001b[0;34m,\u001b[0m \u001b[0mepisode_before_training\u001b[0m \u001b[0;34m=\u001b[0m \u001b[0;36m50\u001b[0m\u001b[0;34m)\u001b[0m\u001b[0;34m\u001b[0m\u001b[0;34m\u001b[0m\u001b[0m\n\u001b[1;32m     23\u001b[0m \u001b[0;34m\u001b[0m\u001b[0m\n",
      "\u001b[0;31mNameError\u001b[0m: name 'PrioritizedExperienceReplayWithRank' is not defined"
     ]
    }
   ],
   "source": [
    "# Invoking the model\n",
    "from pathlib import Path\n",
    "\n",
    "file_pimary = Path(primary_model_file_name)\n",
    "file_target = Path(target_model_file_name)\n",
    "\n",
    "if file_pimary.exists():\n",
    "    model_primary = load_model(primary_model_file_name)\n",
    "else:\n",
    "    model_primary = create_dueling_model(input_shape, num_actions)\n",
    "        \n",
    "if file_target.exists():\n",
    "    model_target = load_model(target_model_file_name)\n",
    "else:\n",
    "    model_target = create_dueling_model(input_shape, num_actions)\n",
    "        \n",
    "#model.compile(loss=loss_function, optimizer=optimizer)\n",
    "\n",
    "# Print a summary about the model\n",
    "model_primary.summary()\n",
    "pre_rank_based = PrioritizedExperienceReplayWithRank()\n",
    "model, rewards = double_DQN_training(env_prep, model_primary, model_target, pre_rank_based, loss_function, batch_size, min_epsilon, action_space_size, discount_factor, max_episodes = 600, episode_before_training = 50)\n",
    "\n",
    "#env_prep.close()\n",
    "#model_primary.save(primary_model_file_name)\n",
    "#model_target.save(target_model_file_name)\n",
    "#plot_result(max_episodes,rewards)"
   ]
  },
  {
   "cell_type": "markdown",
   "id": "b0525ad1-afdc-4a71-9bba-0041a3abad5d",
   "metadata": {},
   "source": [
    "# Run play"
   ]
  },
  {
   "cell_type": "code",
   "execution_count": 5,
   "id": "28b03c22-dc33-4db8-b3e1-a4408d017e01",
   "metadata": {},
   "outputs": [
    {
     "ename": "ValueError",
     "evalue": "x and y must have same first dimension, but have shapes (1,) and (4,)",
     "output_type": "error",
     "traceback": [
      "\u001b[0;31m---------------------------------------------------------------------------\u001b[0m",
      "\u001b[0;31mValueError\u001b[0m                                Traceback (most recent call last)",
      "\u001b[0;32m/tmp/ipykernel_20822/1856718355.py\u001b[0m in \u001b[0;36m<cell line: 19>\u001b[0;34m()\u001b[0m\n\u001b[1;32m     17\u001b[0m \u001b[0mname_plot_eps_rewards\u001b[0m \u001b[0;34m=\u001b[0m \u001b[0;34m\"Training Episodes Rewards\"\u001b[0m\u001b[0;34m\u001b[0m\u001b[0;34m\u001b[0m\u001b[0m\n\u001b[1;32m     18\u001b[0m \u001b[0;34m\u001b[0m\u001b[0m\n\u001b[0;32m---> 19\u001b[0;31m \u001b[0mplot_result\u001b[0m\u001b[0;34m(\u001b[0m\u001b[0;34m\"Episode\"\u001b[0m\u001b[0;34m,\u001b[0m \u001b[0;34m\"Steps\"\u001b[0m\u001b[0;34m,\u001b[0m \u001b[0mepisodes\u001b[0m\u001b[0;34m,\u001b[0m \u001b[0msteps\u001b[0m\u001b[0;34m,\u001b[0m \u001b[0mname_plot_eps_steps\u001b[0m\u001b[0;34m)\u001b[0m\u001b[0;34m\u001b[0m\u001b[0;34m\u001b[0m\u001b[0m\n\u001b[0m\u001b[1;32m     20\u001b[0m \u001b[0mplot_result\u001b[0m\u001b[0;34m(\u001b[0m\u001b[0;34m\"Episode\"\u001b[0m\u001b[0;34m,\u001b[0m \u001b[0;34m\"Steps\"\u001b[0m\u001b[0;34m,\u001b[0m \u001b[0mepisodes\u001b[0m\u001b[0;34m,\u001b[0m \u001b[0mrewards\u001b[0m\u001b[0;34m,\u001b[0m \u001b[0mname_plot_eps_rewards\u001b[0m\u001b[0;34m)\u001b[0m\u001b[0;34m\u001b[0m\u001b[0;34m\u001b[0m\u001b[0m\n\u001b[1;32m     21\u001b[0m \u001b[0;34m\u001b[0m\u001b[0m\n",
      "\u001b[0;32m/tmp/ipykernel_20822/1856718355.py\u001b[0m in \u001b[0;36mplot_result\u001b[0;34m(x_label, y_label, x, y, name)\u001b[0m\n\u001b[1;32m      3\u001b[0m \u001b[0;34m\u001b[0m\u001b[0m\n\u001b[1;32m      4\u001b[0m \u001b[0;32mdef\u001b[0m \u001b[0mplot_result\u001b[0m\u001b[0;34m(\u001b[0m\u001b[0mx_label\u001b[0m\u001b[0;34m,\u001b[0m \u001b[0my_label\u001b[0m\u001b[0;34m,\u001b[0m \u001b[0mx\u001b[0m\u001b[0;34m,\u001b[0m \u001b[0my\u001b[0m\u001b[0;34m,\u001b[0m \u001b[0mname\u001b[0m\u001b[0;34m)\u001b[0m\u001b[0;34m:\u001b[0m\u001b[0;34m\u001b[0m\u001b[0;34m\u001b[0m\u001b[0m\n\u001b[0;32m----> 5\u001b[0;31m     \u001b[0mplt\u001b[0m\u001b[0;34m.\u001b[0m\u001b[0mplot\u001b[0m\u001b[0;34m(\u001b[0m\u001b[0mx\u001b[0m\u001b[0;34m,\u001b[0m\u001b[0my\u001b[0m\u001b[0;34m)\u001b[0m\u001b[0;34m\u001b[0m\u001b[0;34m\u001b[0m\u001b[0m\n\u001b[0m\u001b[1;32m      6\u001b[0m     \u001b[0mplt\u001b[0m\u001b[0;34m.\u001b[0m\u001b[0mylabel\u001b[0m\u001b[0;34m(\u001b[0m\u001b[0mx_label\u001b[0m\u001b[0;34m)\u001b[0m\u001b[0;34m\u001b[0m\u001b[0;34m\u001b[0m\u001b[0m\n\u001b[1;32m      7\u001b[0m     \u001b[0mplt\u001b[0m\u001b[0;34m.\u001b[0m\u001b[0mxlabel\u001b[0m\u001b[0;34m(\u001b[0m\u001b[0my_label\u001b[0m\u001b[0;34m)\u001b[0m\u001b[0;34m\u001b[0m\u001b[0;34m\u001b[0m\u001b[0m\n",
      "\u001b[0;32m~/anaconda3/lib/python3.9/site-packages/matplotlib/pyplot.py\u001b[0m in \u001b[0;36mplot\u001b[0;34m(scalex, scaley, data, *args, **kwargs)\u001b[0m\n\u001b[1;32m   2765\u001b[0m \u001b[0;34m@\u001b[0m\u001b[0m_copy_docstring_and_deprecators\u001b[0m\u001b[0;34m(\u001b[0m\u001b[0mAxes\u001b[0m\u001b[0;34m.\u001b[0m\u001b[0mplot\u001b[0m\u001b[0;34m)\u001b[0m\u001b[0;34m\u001b[0m\u001b[0;34m\u001b[0m\u001b[0m\n\u001b[1;32m   2766\u001b[0m \u001b[0;32mdef\u001b[0m \u001b[0mplot\u001b[0m\u001b[0;34m(\u001b[0m\u001b[0;34m*\u001b[0m\u001b[0margs\u001b[0m\u001b[0;34m,\u001b[0m \u001b[0mscalex\u001b[0m\u001b[0;34m=\u001b[0m\u001b[0;32mTrue\u001b[0m\u001b[0;34m,\u001b[0m \u001b[0mscaley\u001b[0m\u001b[0;34m=\u001b[0m\u001b[0;32mTrue\u001b[0m\u001b[0;34m,\u001b[0m \u001b[0mdata\u001b[0m\u001b[0;34m=\u001b[0m\u001b[0;32mNone\u001b[0m\u001b[0;34m,\u001b[0m \u001b[0;34m**\u001b[0m\u001b[0mkwargs\u001b[0m\u001b[0;34m)\u001b[0m\u001b[0;34m:\u001b[0m\u001b[0;34m\u001b[0m\u001b[0;34m\u001b[0m\u001b[0m\n\u001b[0;32m-> 2767\u001b[0;31m     return gca().plot(\n\u001b[0m\u001b[1;32m   2768\u001b[0m         \u001b[0;34m*\u001b[0m\u001b[0margs\u001b[0m\u001b[0;34m,\u001b[0m \u001b[0mscalex\u001b[0m\u001b[0;34m=\u001b[0m\u001b[0mscalex\u001b[0m\u001b[0;34m,\u001b[0m \u001b[0mscaley\u001b[0m\u001b[0;34m=\u001b[0m\u001b[0mscaley\u001b[0m\u001b[0;34m,\u001b[0m\u001b[0;34m\u001b[0m\u001b[0;34m\u001b[0m\u001b[0m\n\u001b[1;32m   2769\u001b[0m         **({\"data\": data} if data is not None else {}), **kwargs)\n",
      "\u001b[0;32m~/anaconda3/lib/python3.9/site-packages/matplotlib/axes/_axes.py\u001b[0m in \u001b[0;36mplot\u001b[0;34m(self, scalex, scaley, data, *args, **kwargs)\u001b[0m\n\u001b[1;32m   1633\u001b[0m         \"\"\"\n\u001b[1;32m   1634\u001b[0m         \u001b[0mkwargs\u001b[0m \u001b[0;34m=\u001b[0m \u001b[0mcbook\u001b[0m\u001b[0;34m.\u001b[0m\u001b[0mnormalize_kwargs\u001b[0m\u001b[0;34m(\u001b[0m\u001b[0mkwargs\u001b[0m\u001b[0;34m,\u001b[0m \u001b[0mmlines\u001b[0m\u001b[0;34m.\u001b[0m\u001b[0mLine2D\u001b[0m\u001b[0;34m)\u001b[0m\u001b[0;34m\u001b[0m\u001b[0;34m\u001b[0m\u001b[0m\n\u001b[0;32m-> 1635\u001b[0;31m         \u001b[0mlines\u001b[0m \u001b[0;34m=\u001b[0m \u001b[0;34m[\u001b[0m\u001b[0;34m*\u001b[0m\u001b[0mself\u001b[0m\u001b[0;34m.\u001b[0m\u001b[0m_get_lines\u001b[0m\u001b[0;34m(\u001b[0m\u001b[0;34m*\u001b[0m\u001b[0margs\u001b[0m\u001b[0;34m,\u001b[0m \u001b[0mdata\u001b[0m\u001b[0;34m=\u001b[0m\u001b[0mdata\u001b[0m\u001b[0;34m,\u001b[0m \u001b[0;34m**\u001b[0m\u001b[0mkwargs\u001b[0m\u001b[0;34m)\u001b[0m\u001b[0;34m]\u001b[0m\u001b[0;34m\u001b[0m\u001b[0;34m\u001b[0m\u001b[0m\n\u001b[0m\u001b[1;32m   1636\u001b[0m         \u001b[0;32mfor\u001b[0m \u001b[0mline\u001b[0m \u001b[0;32min\u001b[0m \u001b[0mlines\u001b[0m\u001b[0;34m:\u001b[0m\u001b[0;34m\u001b[0m\u001b[0;34m\u001b[0m\u001b[0m\n\u001b[1;32m   1637\u001b[0m             \u001b[0mself\u001b[0m\u001b[0;34m.\u001b[0m\u001b[0madd_line\u001b[0m\u001b[0;34m(\u001b[0m\u001b[0mline\u001b[0m\u001b[0;34m)\u001b[0m\u001b[0;34m\u001b[0m\u001b[0;34m\u001b[0m\u001b[0m\n",
      "\u001b[0;32m~/anaconda3/lib/python3.9/site-packages/matplotlib/axes/_base.py\u001b[0m in \u001b[0;36m__call__\u001b[0;34m(self, data, *args, **kwargs)\u001b[0m\n\u001b[1;32m    310\u001b[0m                 \u001b[0mthis\u001b[0m \u001b[0;34m+=\u001b[0m \u001b[0margs\u001b[0m\u001b[0;34m[\u001b[0m\u001b[0;36m0\u001b[0m\u001b[0;34m]\u001b[0m\u001b[0;34m,\u001b[0m\u001b[0;34m\u001b[0m\u001b[0;34m\u001b[0m\u001b[0m\n\u001b[1;32m    311\u001b[0m                 \u001b[0margs\u001b[0m \u001b[0;34m=\u001b[0m \u001b[0margs\u001b[0m\u001b[0;34m[\u001b[0m\u001b[0;36m1\u001b[0m\u001b[0;34m:\u001b[0m\u001b[0;34m]\u001b[0m\u001b[0;34m\u001b[0m\u001b[0;34m\u001b[0m\u001b[0m\n\u001b[0;32m--> 312\u001b[0;31m             \u001b[0;32myield\u001b[0m \u001b[0;32mfrom\u001b[0m \u001b[0mself\u001b[0m\u001b[0;34m.\u001b[0m\u001b[0m_plot_args\u001b[0m\u001b[0;34m(\u001b[0m\u001b[0mthis\u001b[0m\u001b[0;34m,\u001b[0m \u001b[0mkwargs\u001b[0m\u001b[0;34m)\u001b[0m\u001b[0;34m\u001b[0m\u001b[0;34m\u001b[0m\u001b[0m\n\u001b[0m\u001b[1;32m    313\u001b[0m \u001b[0;34m\u001b[0m\u001b[0m\n\u001b[1;32m    314\u001b[0m     \u001b[0;32mdef\u001b[0m \u001b[0mget_next_color\u001b[0m\u001b[0;34m(\u001b[0m\u001b[0mself\u001b[0m\u001b[0;34m)\u001b[0m\u001b[0;34m:\u001b[0m\u001b[0;34m\u001b[0m\u001b[0;34m\u001b[0m\u001b[0m\n",
      "\u001b[0;32m~/anaconda3/lib/python3.9/site-packages/matplotlib/axes/_base.py\u001b[0m in \u001b[0;36m_plot_args\u001b[0;34m(self, tup, kwargs, return_kwargs)\u001b[0m\n\u001b[1;32m    496\u001b[0m \u001b[0;34m\u001b[0m\u001b[0m\n\u001b[1;32m    497\u001b[0m         \u001b[0;32mif\u001b[0m \u001b[0mx\u001b[0m\u001b[0;34m.\u001b[0m\u001b[0mshape\u001b[0m\u001b[0;34m[\u001b[0m\u001b[0;36m0\u001b[0m\u001b[0;34m]\u001b[0m \u001b[0;34m!=\u001b[0m \u001b[0my\u001b[0m\u001b[0;34m.\u001b[0m\u001b[0mshape\u001b[0m\u001b[0;34m[\u001b[0m\u001b[0;36m0\u001b[0m\u001b[0;34m]\u001b[0m\u001b[0;34m:\u001b[0m\u001b[0;34m\u001b[0m\u001b[0;34m\u001b[0m\u001b[0m\n\u001b[0;32m--> 498\u001b[0;31m             raise ValueError(f\"x and y must have same first dimension, but \"\n\u001b[0m\u001b[1;32m    499\u001b[0m                              f\"have shapes {x.shape} and {y.shape}\")\n\u001b[1;32m    500\u001b[0m         \u001b[0;32mif\u001b[0m \u001b[0mx\u001b[0m\u001b[0;34m.\u001b[0m\u001b[0mndim\u001b[0m \u001b[0;34m>\u001b[0m \u001b[0;36m2\u001b[0m \u001b[0;32mor\u001b[0m \u001b[0my\u001b[0m\u001b[0;34m.\u001b[0m\u001b[0mndim\u001b[0m \u001b[0;34m>\u001b[0m \u001b[0;36m2\u001b[0m\u001b[0;34m:\u001b[0m\u001b[0;34m\u001b[0m\u001b[0;34m\u001b[0m\u001b[0m\n",
      "\u001b[0;31mValueError\u001b[0m: x and y must have same first dimension, but have shapes (1,) and (4,)"
     ]
    },
    {
     "data": {
      "image/png": "[encoded data removed]",
      "text/plain": [
       "<Figure size 640x480 with 1 Axes>"
      ]
     },
     "metadata": {},
     "output_type": "display_data"
    }
   ],
   "source": [
    "# Plot result\n",
    "import matplotlib.pyplot as plt\n",
    "\n",
    "def plot_result(x_label, y_label, x, y, name):\n",
    "    plt.plot(x,y)\n",
    "    plt.ylabel(x_label)\n",
    "    plt.xlabel(y_label)\n",
    "    plt.show()\n",
    "\n",
    "steps = [1,2,3,4]\n",
    "rewards = [1,2,3,4]\n",
    "\n",
    "# TODO fixme\n",
    "# model.save(primary_model_file_name)\n",
    "name_plot_eps_steps = \"Training Episodes Steps\"\n",
    "name_plot_eps_rewards = \"Training Episodes Rewards\"\n",
    "\n",
    "plot_result(\"Episode\", \"Steps\", rewards, steps, name_plot_eps_steps)\n",
    "\n"
   ]
  },
  {
   "cell_type": "code",
   "execution_count": null,
   "id": "4fcf7f35-90b3-47f2-8f02-6c3433194441",
   "metadata": {},
   "outputs": [],
   "source": []
  },
  {
   "cell_type": "code",
   "execution_count": null,
   "id": "40b8394d-9a2e-4c06-af51-50750fb41af5",
   "metadata": {},
   "outputs": [],
   "source": []
  },
  {
   "cell_type": "code",
   "execution_count": null,
   "id": "62287f1e-7723-4187-acf0-6e8ba70785f1",
   "metadata": {},
   "outputs": [],
   "source": []
  }
 ],
 "metadata": {
  "kernelspec": {
   "display_name": "Python 3 (ipykernel)",
   "language": "python",
   "name": "python3"
  },
  "language_info": {
   "codemirror_mode": {
    "name": "ipython",
    "version": 3
   },
   "file_extension": ".py",
   "mimetype": "text/x-python",
   "name": "python",
   "nbconvert_exporter": "python",
   "pygments_lexer": "ipython3",
   "version": "3.9.13"
  },
  "toc-autonumbering": true,
  "toc-showcode": false,
  "toc-showmarkdowntxt": false
 },
 "nbformat": 4,
 "nbformat_minor": 5
}
